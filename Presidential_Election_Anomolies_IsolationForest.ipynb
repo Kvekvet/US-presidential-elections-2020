{
  "nbformat": 4,
  "nbformat_minor": 0,
  "metadata": {
    "colab": {
      "name": "Presidential Election Anomolies - IsolationForest.ipynb",
      "provenance": []
    },
    "kernelspec": {
      "name": "python3",
      "display_name": "Python 3"
    }
  },
  "cells": [
    {
      "cell_type": "markdown",
      "metadata": {
        "id": "PizmZr4bmK_y"
      },
      "source": [
        "This program is to look for fraud in presidentail elections 1976 to 2020"
      ]
    },
    {
      "cell_type": "markdown",
      "metadata": {
        "id": "ju5BeBdcmXgm"
      },
      "source": [
        "Import libraries"
      ]
    },
    {
      "cell_type": "code",
      "metadata": {
        "id": "JPc6Ch76maZ1"
      },
      "source": [
        "import pandas as pd\n",
        "import numpy as np\n",
        "import matplotlib.pyplot as plt\n",
        "import seaborn as sns"
      ],
      "execution_count": 118,
      "outputs": []
    },
    {
      "cell_type": "markdown",
      "metadata": {
        "id": "EX6GMnYemekQ"
      },
      "source": [
        "Load and read dataset\n",
        "\n",
        "File was taken from the following sites and apended:-\n",
        "present taken from:- https://www.kaggle.com/unanimad/us-election-2020?select=president_county_candidate.csv\n",
        "past taken from:- https://electionlab.mit.edu/data\n",
        "\n",
        "1:democrat, 2:republican, 3:other"
      ]
    },
    {
      "cell_type": "code",
      "metadata": {
        "colab": {
          "base_uri": "https://localhost:8080/",
          "height": 415
        },
        "id": "8bPyxazrmW9G",
        "outputId": "74bdcd2b-caac-42e3-ab60-a147a88e29c9"
      },
      "source": [
        "train=pd.read_csv(\"https://raw.githubusercontent.com/TracyRenee61/US-presidential-elections-2020/main/series.csv\")\n",
        "train"
      ],
      "execution_count": 119,
      "outputs": [
        {
          "output_type": "execute_result",
          "data": {
            "text/html": [
              "<div>\n",
              "<style scoped>\n",
              "    .dataframe tbody tr th:only-of-type {\n",
              "        vertical-align: middle;\n",
              "    }\n",
              "\n",
              "    .dataframe tbody tr th {\n",
              "        vertical-align: top;\n",
              "    }\n",
              "\n",
              "    .dataframe thead th {\n",
              "        text-align: right;\n",
              "    }\n",
              "</style>\n",
              "<table border=\"1\" class=\"dataframe\">\n",
              "  <thead>\n",
              "    <tr style=\"text-align: right;\">\n",
              "      <th></th>\n",
              "      <th>state</th>\n",
              "      <th>candidate</th>\n",
              "      <th>party</th>\n",
              "      <th>year</th>\n",
              "      <th>candidatevotes</th>\n",
              "    </tr>\n",
              "  </thead>\n",
              "  <tbody>\n",
              "    <tr>\n",
              "      <th>0</th>\n",
              "      <td>Alabama</td>\n",
              "      <td>Carter, Jimmy</td>\n",
              "      <td>1.0</td>\n",
              "      <td>1976</td>\n",
              "      <td>659170</td>\n",
              "    </tr>\n",
              "    <tr>\n",
              "      <th>1</th>\n",
              "      <td>Alabama</td>\n",
              "      <td>Ford, Gerald</td>\n",
              "      <td>2.0</td>\n",
              "      <td>1976</td>\n",
              "      <td>504070</td>\n",
              "    </tr>\n",
              "    <tr>\n",
              "      <th>2</th>\n",
              "      <td>Alabama</td>\n",
              "      <td>Maddox, Lester</td>\n",
              "      <td>3.0</td>\n",
              "      <td>1976</td>\n",
              "      <td>9198</td>\n",
              "    </tr>\n",
              "    <tr>\n",
              "      <th>3</th>\n",
              "      <td>Alabama</td>\n",
              "      <td>Bubar, Benjamin \"\"Ben\"\"</td>\n",
              "      <td>3.0</td>\n",
              "      <td>1976</td>\n",
              "      <td>6669</td>\n",
              "    </tr>\n",
              "    <tr>\n",
              "      <th>4</th>\n",
              "      <td>Alabama</td>\n",
              "      <td>Hall, Gus</td>\n",
              "      <td>3.0</td>\n",
              "      <td>1976</td>\n",
              "      <td>1954</td>\n",
              "    </tr>\n",
              "    <tr>\n",
              "      <th>...</th>\n",
              "      <td>...</td>\n",
              "      <td>...</td>\n",
              "      <td>...</td>\n",
              "      <td>...</td>\n",
              "      <td>...</td>\n",
              "    </tr>\n",
              "    <tr>\n",
              "      <th>4086</th>\n",
              "      <td>Wyoming</td>\n",
              "      <td>Write-ins</td>\n",
              "      <td>3.0</td>\n",
              "      <td>2020</td>\n",
              "      <td>1739</td>\n",
              "    </tr>\n",
              "    <tr>\n",
              "      <th>4087</th>\n",
              "      <td>Wyoming</td>\n",
              "      <td>Brock Pierce</td>\n",
              "      <td>3.0</td>\n",
              "      <td>2020</td>\n",
              "      <td>2208</td>\n",
              "    </tr>\n",
              "    <tr>\n",
              "      <th>4088</th>\n",
              "      <td>Wyoming</td>\n",
              "      <td>Donald Trump</td>\n",
              "      <td>2.0</td>\n",
              "      <td>2020</td>\n",
              "      <td>193559</td>\n",
              "    </tr>\n",
              "    <tr>\n",
              "      <th>4089</th>\n",
              "      <td>Wyoming</td>\n",
              "      <td>Jo Jorgensen</td>\n",
              "      <td>3.0</td>\n",
              "      <td>2020</td>\n",
              "      <td>5768</td>\n",
              "    </tr>\n",
              "    <tr>\n",
              "      <th>4090</th>\n",
              "      <td>Wyoming</td>\n",
              "      <td>Joe Biden</td>\n",
              "      <td>1.0</td>\n",
              "      <td>2020</td>\n",
              "      <td>73491</td>\n",
              "    </tr>\n",
              "  </tbody>\n",
              "</table>\n",
              "<p>4091 rows × 5 columns</p>\n",
              "</div>"
            ],
            "text/plain": [
              "        state                candidate  party  year  candidatevotes\n",
              "0     Alabama            Carter, Jimmy    1.0  1976          659170\n",
              "1     Alabama             Ford, Gerald    2.0  1976          504070\n",
              "2     Alabama           Maddox, Lester    3.0  1976            9198\n",
              "3     Alabama  Bubar, Benjamin \"\"Ben\"\"    3.0  1976            6669\n",
              "4     Alabama                Hall, Gus    3.0  1976            1954\n",
              "...       ...                      ...    ...   ...             ...\n",
              "4086  Wyoming                Write-ins    3.0  2020            1739\n",
              "4087  Wyoming             Brock Pierce    3.0  2020            2208\n",
              "4088  Wyoming             Donald Trump    2.0  2020          193559\n",
              "4089  Wyoming             Jo Jorgensen    3.0  2020            5768\n",
              "4090  Wyoming                Joe Biden    1.0  2020           73491\n",
              "\n",
              "[4091 rows x 5 columns]"
            ]
          },
          "metadata": {
            "tags": []
          },
          "execution_count": 119
        }
      ]
    },
    {
      "cell_type": "markdown",
      "metadata": {
        "id": "IJd6DLsgm-B3"
      },
      "source": [
        "Check for null values"
      ]
    },
    {
      "cell_type": "code",
      "metadata": {
        "colab": {
          "base_uri": "https://localhost:8080/"
        },
        "id": "US1QpJuNnB3s",
        "outputId": "2e922ec1-a867-4b07-cf14-90dc34499c3a"
      },
      "source": [
        "train.isnull().sum()"
      ],
      "execution_count": 120,
      "outputs": [
        {
          "output_type": "execute_result",
          "data": {
            "text/plain": [
              "state             0\n",
              "candidate         0\n",
              "party             0\n",
              "year              0\n",
              "candidatevotes    0\n",
              "dtype: int64"
            ]
          },
          "metadata": {
            "tags": []
          },
          "execution_count": 120
        }
      ]
    },
    {
      "cell_type": "markdown",
      "metadata": {
        "id": "52Rk_sW_nsbM"
      },
      "source": [
        "Graphical representation of votes"
      ]
    },
    {
      "cell_type": "code",
      "metadata": {
        "colab": {
          "base_uri": "https://localhost:8080/",
          "height": 397
        },
        "id": "-JNHRrDDl1bF",
        "outputId": "1ec15ab8-b962-498b-e3ec-4747a1eb8780"
      },
      "source": [
        "sns.distplot(train.candidatevotes)"
      ],
      "execution_count": 121,
      "outputs": [
        {
          "output_type": "stream",
          "text": [
            "/usr/local/lib/python3.6/dist-packages/seaborn/distributions.py:2551: FutureWarning:\n",
            "\n",
            "`distplot` is a deprecated function and will be removed in a future version. Please adapt your code to use either `displot` (a figure-level function with similar flexibility) or `histplot` (an axes-level function for histograms).\n",
            "\n"
          ],
          "name": "stderr"
        },
        {
          "output_type": "execute_result",
          "data": {
            "text/plain": [
              "<matplotlib.axes._subplots.AxesSubplot at 0x7f064d120940>"
            ]
          },
          "metadata": {
            "tags": []
          },
          "execution_count": 121
        },
        {
          "output_type": "display_data",
          "data": {
            "image/png": "[encoded data removed]",
            "text/plain": [
              "<Figure size 432x288 with 1 Axes>"
            ]
          },
          "metadata": {
            "tags": [],
            "needs_background": "light"
          }
        }
      ]
    },
    {
      "cell_type": "code",
      "metadata": {
        "colab": {
          "base_uri": "https://localhost:8080/",
          "height": 290
        },
        "id": "qHjrQwxYojgP",
        "outputId": "dce520ec-3d8b-4bf4-8761-7ed3be2be541"
      },
      "source": [
        "ax = sns.violinplot(x=\"party\", y=\"candidatevotes\", data=train)"
      ],
      "execution_count": 122,
      "outputs": [
        {
          "output_type": "display_data",
          "data": {
            "image/png": "[encoded data removed]",
            "text/plain": [
              "<Figure size 432x288 with 1 Axes>"
            ]
          },
          "metadata": {
            "tags": [],
            "needs_background": "light"
          }
        }
      ]
    },
    {
      "cell_type": "code",
      "metadata": {
        "colab": {
          "base_uri": "https://localhost:8080/",
          "height": 508
        },
        "id": "UTYUsrZWuhkM",
        "outputId": "06cf89d9-d052-4521-9f84-614b670a9292"
      },
      "source": [
        "var = 'party'\n",
        "data = pd.concat([train['candidatevotes'], train[var]], axis=1)\n",
        "f, ax = plt.subplots(figsize=(14, 8))\n",
        "fig = sns.boxplot(x=var, y=\"candidatevotes\", data=data)\n",
        "fig.axis(ymin=0, ymax=10000000);"
      ],
      "execution_count": 123,
      "outputs": [
        {
          "output_type": "display_data",
          "data": {
            "image/png": "[encoded data removed]",
            "text/plain": [
              "<Figure size 1008x576 with 1 Axes>"
            ]
          },
          "metadata": {
            "tags": [],
            "needs_background": "light"
          }
        }
      ]
    },
    {
      "cell_type": "markdown",
      "metadata": {
        "id": "J7mAlk8MwGfA"
      },
      "source": [
        "Define model"
      ]
    },
    {
      "cell_type": "code",
      "metadata": {
        "colab": {
          "base_uri": "https://localhost:8080/"
        },
        "id": "KW-NpDX_wJWQ",
        "outputId": "0195ad29-616a-4bdf-dbf3-b267b4a62d87"
      },
      "source": [
        "from sklearn.ensemble import IsolationForest\n",
        "\n",
        "model=IsolationForest(n_estimators=1000, max_samples='auto', contamination=float(0.1),max_features=1.0)\n",
        "model.fit(train[['candidatevotes']])"
      ],
      "execution_count": 124,
      "outputs": [
        {
          "output_type": "execute_result",
          "data": {
            "text/plain": [
              "IsolationForest(behaviour='deprecated', bootstrap=False, contamination=0.1,\n",
              "                max_features=1.0, max_samples='auto', n_estimators=1000,\n",
              "                n_jobs=None, random_state=None, verbose=0, warm_start=False)"
            ]
          },
          "metadata": {
            "tags": []
          },
          "execution_count": 124
        }
      ]
    },
    {
      "cell_type": "code",
      "metadata": {
        "colab": {
          "base_uri": "https://localhost:8080/",
          "height": 415
        },
        "id": "6QADGtemxff7",
        "outputId": "c578f6f3-6dcc-444b-e25e-23b94c0f7223"
      },
      "source": [
        "train['scores']=model.decision_function(train[['candidatevotes']])\n",
        "train['anomaly']=model.predict(train[['candidatevotes']])\n",
        "train"
      ],
      "execution_count": 125,
      "outputs": [
        {
          "output_type": "execute_result",
          "data": {
            "text/html": [
              "<div>\n",
              "<style scoped>\n",
              "    .dataframe tbody tr th:only-of-type {\n",
              "        vertical-align: middle;\n",
              "    }\n",
              "\n",
              "    .dataframe tbody tr th {\n",
              "        vertical-align: top;\n",
              "    }\n",
              "\n",
              "    .dataframe thead th {\n",
              "        text-align: right;\n",
              "    }\n",
              "</style>\n",
              "<table border=\"1\" class=\"dataframe\">\n",
              "  <thead>\n",
              "    <tr style=\"text-align: right;\">\n",
              "      <th></th>\n",
              "      <th>state</th>\n",
              "      <th>candidate</th>\n",
              "      <th>party</th>\n",
              "      <th>year</th>\n",
              "      <th>candidatevotes</th>\n",
              "      <th>scores</th>\n",
              "      <th>anomaly</th>\n",
              "    </tr>\n",
              "  </thead>\n",
              "  <tbody>\n",
              "    <tr>\n",
              "      <th>0</th>\n",
              "      <td>Alabama</td>\n",
              "      <td>Carter, Jimmy</td>\n",
              "      <td>1.0</td>\n",
              "      <td>1976</td>\n",
              "      <td>659170</td>\n",
              "      <td>0.019009</td>\n",
              "      <td>1</td>\n",
              "    </tr>\n",
              "    <tr>\n",
              "      <th>1</th>\n",
              "      <td>Alabama</td>\n",
              "      <td>Ford, Gerald</td>\n",
              "      <td>2.0</td>\n",
              "      <td>1976</td>\n",
              "      <td>504070</td>\n",
              "      <td>0.015622</td>\n",
              "      <td>1</td>\n",
              "    </tr>\n",
              "    <tr>\n",
              "      <th>2</th>\n",
              "      <td>Alabama</td>\n",
              "      <td>Maddox, Lester</td>\n",
              "      <td>3.0</td>\n",
              "      <td>1976</td>\n",
              "      <td>9198</td>\n",
              "      <td>0.163485</td>\n",
              "      <td>1</td>\n",
              "    </tr>\n",
              "    <tr>\n",
              "      <th>3</th>\n",
              "      <td>Alabama</td>\n",
              "      <td>Bubar, Benjamin \"\"Ben\"\"</td>\n",
              "      <td>3.0</td>\n",
              "      <td>1976</td>\n",
              "      <td>6669</td>\n",
              "      <td>0.175084</td>\n",
              "      <td>1</td>\n",
              "    </tr>\n",
              "    <tr>\n",
              "      <th>4</th>\n",
              "      <td>Alabama</td>\n",
              "      <td>Hall, Gus</td>\n",
              "      <td>3.0</td>\n",
              "      <td>1976</td>\n",
              "      <td>1954</td>\n",
              "      <td>0.198490</td>\n",
              "      <td>1</td>\n",
              "    </tr>\n",
              "    <tr>\n",
              "      <th>...</th>\n",
              "      <td>...</td>\n",
              "      <td>...</td>\n",
              "      <td>...</td>\n",
              "      <td>...</td>\n",
              "      <td>...</td>\n",
              "      <td>...</td>\n",
              "      <td>...</td>\n",
              "    </tr>\n",
              "    <tr>\n",
              "      <th>4086</th>\n",
              "      <td>Wyoming</td>\n",
              "      <td>Write-ins</td>\n",
              "      <td>3.0</td>\n",
              "      <td>2020</td>\n",
              "      <td>1739</td>\n",
              "      <td>0.199331</td>\n",
              "      <td>1</td>\n",
              "    </tr>\n",
              "    <tr>\n",
              "      <th>4087</th>\n",
              "      <td>Wyoming</td>\n",
              "      <td>Brock Pierce</td>\n",
              "      <td>3.0</td>\n",
              "      <td>2020</td>\n",
              "      <td>2208</td>\n",
              "      <td>0.198633</td>\n",
              "      <td>1</td>\n",
              "    </tr>\n",
              "    <tr>\n",
              "      <th>4088</th>\n",
              "      <td>Wyoming</td>\n",
              "      <td>Donald Trump</td>\n",
              "      <td>2.0</td>\n",
              "      <td>2020</td>\n",
              "      <td>193559</td>\n",
              "      <td>0.054191</td>\n",
              "      <td>1</td>\n",
              "    </tr>\n",
              "    <tr>\n",
              "      <th>4089</th>\n",
              "      <td>Wyoming</td>\n",
              "      <td>Jo Jorgensen</td>\n",
              "      <td>3.0</td>\n",
              "      <td>2020</td>\n",
              "      <td>5768</td>\n",
              "      <td>0.180951</td>\n",
              "      <td>1</td>\n",
              "    </tr>\n",
              "    <tr>\n",
              "      <th>4090</th>\n",
              "      <td>Wyoming</td>\n",
              "      <td>Joe Biden</td>\n",
              "      <td>1.0</td>\n",
              "      <td>2020</td>\n",
              "      <td>73491</td>\n",
              "      <td>0.060673</td>\n",
              "      <td>1</td>\n",
              "    </tr>\n",
              "  </tbody>\n",
              "</table>\n",
              "<p>4091 rows × 7 columns</p>\n",
              "</div>"
            ],
            "text/plain": [
              "        state                candidate  ...    scores  anomaly\n",
              "0     Alabama            Carter, Jimmy  ...  0.019009        1\n",
              "1     Alabama             Ford, Gerald  ...  0.015622        1\n",
              "2     Alabama           Maddox, Lester  ...  0.163485        1\n",
              "3     Alabama  Bubar, Benjamin \"\"Ben\"\"  ...  0.175084        1\n",
              "4     Alabama                Hall, Gus  ...  0.198490        1\n",
              "...       ...                      ...  ...       ...      ...\n",
              "4086  Wyoming                Write-ins  ...  0.199331        1\n",
              "4087  Wyoming             Brock Pierce  ...  0.198633        1\n",
              "4088  Wyoming             Donald Trump  ...  0.054191        1\n",
              "4089  Wyoming             Jo Jorgensen  ...  0.180951        1\n",
              "4090  Wyoming                Joe Biden  ...  0.060673        1\n",
              "\n",
              "[4091 rows x 7 columns]"
            ]
          },
          "metadata": {
            "tags": []
          },
          "execution_count": 125
        }
      ]
    },
    {
      "cell_type": "code",
      "metadata": {
        "colab": {
          "base_uri": "https://localhost:8080/"
        },
        "id": "m2M6L_9-yGU_",
        "outputId": "41b8dbd8-3022-4d56-cb35-07193a0b64d5"
      },
      "source": [
        "anomaly=train.loc[train['anomaly']==-1]\n",
        "anomaly_index=list(anomaly.index)\n",
        "print(anomaly)"
      ],
      "execution_count": 126,
      "outputs": [
        {
          "output_type": "stream",
          "text": [
            "           state      candidate  party  year  candidatevotes    scores  anomaly\n",
            "23    California   Ford, Gerald    2.0  1976         3882244 -0.204548       -1\n",
            "24    California  Carter, Jimmy    1.0  1976         3742284 -0.198070       -1\n",
            "55       Florida  Carter, Jimmy    1.0  1976         1636000 -0.052950       -1\n",
            "56       Florida   Ford, Gerald    2.0  1976         1469531 -0.042251       -1\n",
            "70      Illinois   Ford, Gerald    2.0  1976         2364269 -0.086990       -1\n",
            "...          ...            ...    ...   ...             ...       ...      ...\n",
            "4067    Virginia      Joe Biden    1.0  2020         2413568 -0.090870       -1\n",
            "4070  Washington   Donald Trump    2.0  2020         1584588 -0.052655       -1\n",
            "4074  Washington      Joe Biden    1.0  2020         2369437 -0.087335       -1\n",
            "4083   Wisconsin   Donald Trump    2.0  2020         1610151 -0.053475       -1\n",
            "4085   Wisconsin      Joe Biden    1.0  2020         1630716 -0.053967       -1\n",
            "\n",
            "[409 rows x 7 columns]\n"
          ],
          "name": "stdout"
        }
      ]
    },
    {
      "cell_type": "code",
      "metadata": {
        "colab": {
          "base_uri": "https://localhost:8080/"
        },
        "id": "E_nf7ihJym6X",
        "outputId": "0e12a083-ae0c-40e5-9277-5d469da52767"
      },
      "source": [
        "outliers_counter = len(train[train['candidatevotes'] > 999999])\n",
        "outliers_counter"
      ],
      "execution_count": 127,
      "outputs": [
        {
          "output_type": "execute_result",
          "data": {
            "text/plain": [
              "442"
            ]
          },
          "metadata": {
            "tags": []
          },
          "execution_count": 127
        }
      ]
    },
    {
      "cell_type": "code",
      "metadata": {
        "colab": {
          "base_uri": "https://localhost:8080/",
          "height": 415
        },
        "id": "cnwFpKI-0ig5",
        "outputId": "44df46fa-9fce-4759-a135-dcea07a744b5"
      },
      "source": [
        "outliers_year = anomaly.groupby(['state','candidate','year', 'party'])['candidatevotes'].sum().reset_index()\n",
        "outliers_year"
      ],
      "execution_count": 128,
      "outputs": [
        {
          "output_type": "execute_result",
          "data": {
            "text/html": [
              "<div>\n",
              "<style scoped>\n",
              "    .dataframe tbody tr th:only-of-type {\n",
              "        vertical-align: middle;\n",
              "    }\n",
              "\n",
              "    .dataframe tbody tr th {\n",
              "        vertical-align: top;\n",
              "    }\n",
              "\n",
              "    .dataframe thead th {\n",
              "        text-align: right;\n",
              "    }\n",
              "</style>\n",
              "<table border=\"1\" class=\"dataframe\">\n",
              "  <thead>\n",
              "    <tr style=\"text-align: right;\">\n",
              "      <th></th>\n",
              "      <th>state</th>\n",
              "      <th>candidate</th>\n",
              "      <th>year</th>\n",
              "      <th>party</th>\n",
              "      <th>candidatevotes</th>\n",
              "    </tr>\n",
              "  </thead>\n",
              "  <tbody>\n",
              "    <tr>\n",
              "      <th>0</th>\n",
              "      <td>Alabama</td>\n",
              "      <td>Bush, George W.</td>\n",
              "      <td>2004</td>\n",
              "      <td>2.0</td>\n",
              "      <td>1176394</td>\n",
              "    </tr>\n",
              "    <tr>\n",
              "      <th>1</th>\n",
              "      <td>Alabama</td>\n",
              "      <td>Donald Trump</td>\n",
              "      <td>2020</td>\n",
              "      <td>2.0</td>\n",
              "      <td>1441170</td>\n",
              "    </tr>\n",
              "    <tr>\n",
              "      <th>2</th>\n",
              "      <td>Alabama</td>\n",
              "      <td>McCain, John</td>\n",
              "      <td>2008</td>\n",
              "      <td>2.0</td>\n",
              "      <td>1266546</td>\n",
              "    </tr>\n",
              "    <tr>\n",
              "      <th>3</th>\n",
              "      <td>Alabama</td>\n",
              "      <td>Romney, Mitt</td>\n",
              "      <td>2012</td>\n",
              "      <td>2.0</td>\n",
              "      <td>1255925</td>\n",
              "    </tr>\n",
              "    <tr>\n",
              "      <th>4</th>\n",
              "      <td>Alabama</td>\n",
              "      <td>Trump, Donald J.</td>\n",
              "      <td>2016</td>\n",
              "      <td>2.0</td>\n",
              "      <td>1318255</td>\n",
              "    </tr>\n",
              "    <tr>\n",
              "      <th>...</th>\n",
              "      <td>...</td>\n",
              "      <td>...</td>\n",
              "      <td>...</td>\n",
              "      <td>...</td>\n",
              "      <td>...</td>\n",
              "    </tr>\n",
              "    <tr>\n",
              "      <th>404</th>\n",
              "      <td>Wisconsin</td>\n",
              "      <td>Obama, Barack H.</td>\n",
              "      <td>2008</td>\n",
              "      <td>1.0</td>\n",
              "      <td>1677211</td>\n",
              "    </tr>\n",
              "    <tr>\n",
              "      <th>405</th>\n",
              "      <td>Wisconsin</td>\n",
              "      <td>Obama, Barack H.</td>\n",
              "      <td>2012</td>\n",
              "      <td>1.0</td>\n",
              "      <td>1620985</td>\n",
              "    </tr>\n",
              "    <tr>\n",
              "      <th>406</th>\n",
              "      <td>Wisconsin</td>\n",
              "      <td>Reagan, Ronald</td>\n",
              "      <td>1984</td>\n",
              "      <td>2.0</td>\n",
              "      <td>1198584</td>\n",
              "    </tr>\n",
              "    <tr>\n",
              "      <th>407</th>\n",
              "      <td>Wisconsin</td>\n",
              "      <td>Romney, Mitt</td>\n",
              "      <td>2012</td>\n",
              "      <td>2.0</td>\n",
              "      <td>1410966</td>\n",
              "    </tr>\n",
              "    <tr>\n",
              "      <th>408</th>\n",
              "      <td>Wisconsin</td>\n",
              "      <td>Trump, Donald J.</td>\n",
              "      <td>2016</td>\n",
              "      <td>2.0</td>\n",
              "      <td>1405284</td>\n",
              "    </tr>\n",
              "  </tbody>\n",
              "</table>\n",
              "<p>409 rows × 5 columns</p>\n",
              "</div>"
            ],
            "text/plain": [
              "         state         candidate  year  party  candidatevotes\n",
              "0      Alabama   Bush, George W.  2004    2.0         1176394\n",
              "1      Alabama      Donald Trump  2020    2.0         1441170\n",
              "2      Alabama      McCain, John  2008    2.0         1266546\n",
              "3      Alabama      Romney, Mitt  2012    2.0         1255925\n",
              "4      Alabama  Trump, Donald J.  2016    2.0         1318255\n",
              "..         ...               ...   ...    ...             ...\n",
              "404  Wisconsin  Obama, Barack H.  2008    1.0         1677211\n",
              "405  Wisconsin  Obama, Barack H.  2012    1.0         1620985\n",
              "406  Wisconsin    Reagan, Ronald  1984    2.0         1198584\n",
              "407  Wisconsin      Romney, Mitt  2012    2.0         1410966\n",
              "408  Wisconsin  Trump, Donald J.  2016    2.0         1405284\n",
              "\n",
              "[409 rows x 5 columns]"
            ]
          },
          "metadata": {
            "tags": []
          },
          "execution_count": 128
        }
      ]
    },
    {
      "cell_type": "code",
      "metadata": {
        "colab": {
          "base_uri": "https://localhost:8080/"
        },
        "id": "BIzF25VM6UA_",
        "outputId": "a9b72a0f-b3b4-4907-9aa0-876b3b1bb3e7"
      },
      "source": [
        "print(outliers_year.loc[outliers_year['year'] == 2008])"
      ],
      "execution_count": 129,
      "outputs": [
        {
          "output_type": "stream",
          "text": [
            "              state         candidate  year  party  candidatevotes\n",
            "2           Alabama      McCain, John  2008    2.0         1266546\n",
            "9           Arizona      McCain, John  2008    2.0         1230111\n",
            "28       California      McCain, John  2008    2.0         5011781\n",
            "30       California  Obama, Barack H.  2008    1.0         8274473\n",
            "41         Colorado  Obama, Barack H.  2008    1.0         1288576\n",
            "62          Florida      McCain, John  2008    2.0         4045624\n",
            "64          Florida  Obama, Barack H.  2008    1.0         4282074\n",
            "78          Georgia      McCain, John  2008    2.0         2048759\n",
            "79          Georgia  Obama, Barack H.  2008    1.0         1844123\n",
            "99         Illinois      McCain, John  2008    2.0         2031179\n",
            "101        Illinois  Obama, Barack H.  2008    1.0         3419348\n",
            "114         Indiana      McCain, John  2008    2.0         1345648\n",
            "115         Indiana  Obama, Barack H.  2008    1.0         1374039\n",
            "127       Louisiana      McCain, John  2008    2.0         1148275\n",
            "134        Maryland  Obama, Barack H.  2008    1.0         1629467\n",
            "148   Massachusetts      McCain, John  2008    2.0         1108854\n",
            "150   Massachusetts  Obama, Barack H.  2008    1.0         1904097\n",
            "170        Michigan      McCain, John  2008    2.0         2048639\n",
            "172        Michigan  Obama, Barack H.  2008    1.0         2872579\n",
            "188       Minnesota      McCain, John  2008    2.0         1275409\n",
            "189       Minnesota  Obama, Barack H.  2008    1.0         1573354\n",
            "202        Missouri      McCain, John  2008    2.0         1445814\n",
            "203        Missouri  Obama, Barack H.  2008    1.0         1441911\n",
            "224      New Jersey      McCain, John  2008    2.0         1613207\n",
            "226      New Jersey  Obama, Barack H.  2008    1.0         2215422\n",
            "248        New York      McCain, John  2008    2.0         2418323\n",
            "250        New York  Obama, Barack H.  2008    1.0         4645332\n",
            "269  North Carolina      McCain, John  2008    2.0         2128474\n",
            "270  North Carolina  Obama, Barack H.  2008    1.0         2142651\n",
            "291            Ohio      McCain, John  2008    2.0         2677820\n",
            "293            Ohio  Obama, Barack H.  2008    1.0         2940044\n",
            "319    Pennsylvania      McCain, John  2008    2.0         2655885\n",
            "321    Pennsylvania  Obama, Barack H.  2008    1.0         3276363\n",
            "335       Tennessee      McCain, John  2008    2.0         1479178\n",
            "354           Texas      McCain, John  2008    2.0         4479328\n",
            "356           Texas  Obama, Barack H.  2008    1.0         3528633\n",
            "374        Virginia      McCain, John  2008    2.0         1725005\n",
            "375        Virginia  Obama, Barack H.  2008    1.0         1959532\n",
            "389      Washington      McCain, John  2008    2.0         1229216\n",
            "391      Washington  Obama, Barack H.  2008    1.0         1750848\n",
            "403       Wisconsin      McCain, John  2008    2.0         1262393\n",
            "404       Wisconsin  Obama, Barack H.  2008    1.0         1677211\n"
          ],
          "name": "stdout"
        }
      ]
    },
    {
      "cell_type": "code",
      "metadata": {
        "colab": {
          "base_uri": "https://localhost:8080/"
        },
        "id": "8JTkwOTf6K2v",
        "outputId": "644f2a05-d5d7-4e54-dd61-64ce6544b392"
      },
      "source": [
        "print(outliers_year.loc[outliers_year['year'] == 2012])"
      ],
      "execution_count": 130,
      "outputs": [
        {
          "output_type": "stream",
          "text": [
            "              state         candidate  year  party  candidatevotes\n",
            "3           Alabama      Romney, Mitt  2012    2.0         1255925\n",
            "10          Arizona      Romney, Mitt  2012    2.0         1233654\n",
            "31       California  Obama, Barack H.  2012    1.0         7854285\n",
            "35       California      Romney, Mitt  2012    2.0         4839958\n",
            "42         Colorado  Obama, Barack H.  2012    1.0         1323101\n",
            "43         Colorado      Romney, Mitt  2012    2.0         1185243\n",
            "65          Florida  Obama, Barack H.  2012    1.0         4237756\n",
            "68          Florida      Romney, Mitt  2012    2.0         4163447\n",
            "80          Georgia  Obama, Barack H.  2012    1.0         1773827\n",
            "81          Georgia      Romney, Mitt  2012    2.0         2078688\n",
            "102        Illinois  Obama, Barack H.  2012    1.0         3019512\n",
            "105        Illinois      Romney, Mitt  2012    2.0         2135216\n",
            "116         Indiana  Obama, Barack H.  2012    1.0         1152887\n",
            "119         Indiana      Romney, Mitt  2012    2.0         1420543\n",
            "128       Louisiana      Romney, Mitt  2012    2.0         1152262\n",
            "135        Maryland  Obama, Barack H.  2012    1.0         1677844\n",
            "136        Maryland      Romney, Mitt  2012    2.0          971869\n",
            "151   Massachusetts  Obama, Barack H.  2012    1.0         1921290\n",
            "153   Massachusetts      Romney, Mitt  2012    2.0         1188314\n",
            "173        Michigan  Obama, Barack H.  2012    1.0         2564569\n",
            "176        Michigan      Romney, Mitt  2012    2.0         2115256\n",
            "190       Minnesota  Obama, Barack H.  2012    3.0         1546167\n",
            "191       Minnesota      Romney, Mitt  2012    2.0         1320225\n",
            "204        Missouri  Obama, Barack H.  2012    1.0         1223796\n",
            "206        Missouri      Romney, Mitt  2012    2.0         1482440\n",
            "227      New Jersey  Obama, Barack H.  2012    1.0         2122786\n",
            "230      New Jersey      Romney, Mitt  2012    2.0         1478088\n",
            "251        New York  Obama, Barack H.  2012    1.0         4324228\n",
            "254        New York      Romney, Mitt  2012    2.0         2223397\n",
            "271  North Carolina  Obama, Barack H.  2012    1.0         2178391\n",
            "273  North Carolina      Romney, Mitt  2012    2.0         2270395\n",
            "294            Ohio  Obama, Barack H.  2012    1.0         2827621\n",
            "297            Ohio      Romney, Mitt  2012    2.0         2661407\n",
            "302          Oregon  Obama, Barack H.  2012    1.0          970488\n",
            "322    Pennsylvania  Obama, Barack H.  2012    1.0         2990274\n",
            "325    Pennsylvania      Romney, Mitt  2012    2.0         2680434\n",
            "336       Tennessee      Romney, Mitt  2012    2.0         1462330\n",
            "357           Texas  Obama, Barack H.  2012    1.0         3308124\n",
            "361           Texas      Romney, Mitt  2012    2.0         4569843\n",
            "376        Virginia  Obama, Barack H.  2012    1.0         1971820\n",
            "378        Virginia      Romney, Mitt  2012    2.0         1822522\n",
            "390      Washington      Mitt, Romney  2012    2.0         1290670\n",
            "392      Washington  Obama, Barack H.  2012    1.0         1755396\n",
            "405       Wisconsin  Obama, Barack H.  2012    1.0         1620985\n",
            "407       Wisconsin      Romney, Mitt  2012    2.0         1410966\n"
          ],
          "name": "stdout"
        }
      ]
    },
    {
      "cell_type": "code",
      "metadata": {
        "colab": {
          "base_uri": "https://localhost:8080/"
        },
        "id": "8XOEBD8o56wA",
        "outputId": "0d7f293b-a55f-4fdd-9cee-9e92bca3d0e7"
      },
      "source": [
        "print(outliers_year.loc[outliers_year['year'] == 2016])"
      ],
      "execution_count": 131,
      "outputs": [
        {
          "output_type": "stream",
          "text": [
            "              state         candidate  year  party  candidatevotes\n",
            "4           Alabama  Trump, Donald J.  2016    2.0         1318255\n",
            "6           Arizona  Clinton, Hillary  2016    1.0         1161167\n",
            "11          Arizona  Trump, Donald J.  2016    2.0         1252401\n",
            "20       California  Clinton, Hillary  2016    1.0         8753788\n",
            "36       California  Trump, Donald J.  2016    2.0         4483810\n",
            "38         Colorado  Clinton, Hillary  2016    1.0         1338870\n",
            "44         Colorado  Trump, Donald J.  2016    2.0         1202484\n",
            "54          Florida  Clinton, Hillary  2016    1.0         4504975\n",
            "69          Florida  Trump, Donald J.  2016    2.0         4617886\n",
            "72          Georgia  Clinton, Hillary  2016    1.0         1877963\n",
            "82          Georgia  Trump, Donald J.  2016    2.0         2089104\n",
            "91         Illinois  Clinton, Hillary  2016    1.0         3090729\n",
            "106        Illinois  Trump, Donald J.  2016    2.0         2146015\n",
            "120         Indiana  Trump, Donald J.  2016    2.0         1557286\n",
            "122        Kentucky  Trump, Donald J.  2016    2.0         1202971\n",
            "129       Louisiana  Trump, Donald J.  2016    2.0         1178638\n",
            "130        Maryland  Clinton, Hillary  2016    1.0         1677928\n",
            "137        Maryland  Trump, Donald J.  2016    2.0          943169\n",
            "142   Massachusetts  Clinton, Hillary  2016    1.0         1995196\n",
            "162        Michigan  Clinton, Hillary  2016    1.0         2268839\n",
            "177        Michigan  Trump, Donald J.  2016    2.0         2279543\n",
            "182       Minnesota  Clinton, Hillary  2016    1.0         1367705\n",
            "192       Minnesota  Trump, Donald J.  2016    2.0         1322949\n",
            "207        Missouri  Trump, Donald J.  2016    2.0         1594511\n",
            "216      New Jersey  Clinton, Hillary  2016    1.0         2148278\n",
            "231      New Jersey  Trump, Donald J.  2016    2.0         1601933\n",
            "240        New York  Clinton, Hillary  2016    1.0         4379789\n",
            "255        New York  Trump, Donald J.  2016    2.0         2527142\n",
            "263  North Carolina  Clinton, Hillary  2016    1.0         2189316\n",
            "274  North Carolina  Trump, Donald J.  2016    2.0         2362631\n",
            "283            Ohio  Clinton, Hillary  2016    1.0         2394164\n",
            "298            Ohio  Trump, Donald J.  2016    2.0         2841005\n",
            "311    Pennsylvania  Clinton, Hillary  2016    1.0         2926441\n",
            "326    Pennsylvania  Trump, Donald J.  2016    2.0         2970733\n",
            "329  South Carolina  Trump, Donald J.  2016    2.0         1155389\n",
            "337       Tennessee  Trump, Donald J.  2016    2.0         1522925\n",
            "346           Texas  Clinton, Hillary  2016    1.0         3877868\n",
            "362           Texas  Trump, Donald J.  2016    2.0         4685047\n",
            "368        Virginia  Clinton, Hillary  2016    1.0         1981473\n",
            "379        Virginia  Trump, Donald J.  2016    2.0         1769443\n",
            "383      Washington  Clinton, Hillary  2016    1.0         1742718\n",
            "393      Washington  Trump, Donald J.  2016    2.0         1221747\n",
            "397       Wisconsin  Clinton, Hillary  2016    1.0         1382536\n",
            "408       Wisconsin  Trump, Donald J.  2016    2.0         1405284\n"
          ],
          "name": "stdout"
        }
      ]
    },
    {
      "cell_type": "code",
      "metadata": {
        "colab": {
          "base_uri": "https://localhost:8080/"
        },
        "id": "jM6oRNhd4E-F",
        "outputId": "03c8a136-b3ba-4861-b1de-39b1b9c123be"
      },
      "source": [
        "print(outliers_year.loc[outliers_year['year'] == 2020])"
      ],
      "execution_count": 132,
      "outputs": [
        {
          "output_type": "stream",
          "text": [
            "              state     candidate  year  party  candidatevotes\n",
            "1           Alabama  Donald Trump  2020    2.0         1441170\n",
            "7           Arizona  Donald Trump  2020    2.0         1661686\n",
            "8           Arizona     Joe Biden  2020    1.0         1672143\n",
            "22       California  Donald Trump  2020    2.0         5982194\n",
            "26       California     Joe Biden  2020    1.0        11082293\n",
            "39         Colorado  Donald Trump  2020    2.0         1364471\n",
            "40         Colorado     Joe Biden  2020    1.0         1804196\n",
            "45      Connecticut     Joe Biden  2020    1.0         1080680\n",
            "56          Florida  Donald Trump  2020    2.0         5668731\n",
            "60          Florida     Joe Biden  2020    1.0         5297045\n",
            "74          Georgia  Donald Trump  2020    2.0         2461837\n",
            "76          Georgia     Joe Biden  2020    1.0         2474507\n",
            "93         Illinois  Donald Trump  2020    2.0         2814790\n",
            "97         Illinois     Joe Biden  2020    1.0         4241849\n",
            "110         Indiana  Donald Trump  2020    2.0         1729852\n",
            "112         Indiana     Joe Biden  2020    1.0         1242495\n",
            "121        Kentucky  Donald Trump  2020    2.0         1326646\n",
            "126       Louisiana  Donald Trump  2020    2.0         1255776\n",
            "132        Maryland     Joe Biden  2020    1.0         1985023\n",
            "143   Massachusetts  Donald Trump  2020    2.0         1167202\n",
            "146   Massachusetts     Joe Biden  2020    1.0         2382202\n",
            "164        Michigan  Donald Trump  2020    2.0         2649852\n",
            "168        Michigan     Joe Biden  2020    1.0         2804040\n",
            "183       Minnesota  Donald Trump  2020    2.0         1484065\n",
            "186       Minnesota     Joe Biden  2020    1.0         1717077\n",
            "197        Missouri  Donald Trump  2020    2.0         1717912\n",
            "200        Missouri     Joe Biden  2020    1.0         1253561\n",
            "218      New Jersey  Donald Trump  2020    2.0         1882454\n",
            "222      New Jersey     Joe Biden  2020    1.0         2607331\n",
            "242        New York  Donald Trump  2020    2.0         3003631\n",
            "246        New York     Joe Biden  2020    1.0         4131812\n",
            "265  North Carolina  Donald Trump  2020    2.0         2758773\n",
            "267  North Carolina     Joe Biden  2020    1.0         2684292\n",
            "285            Ohio  Donald Trump  2020    2.0         3154834\n",
            "289            Ohio     Joe Biden  2020    1.0         2679165\n",
            "299          Oregon  Donald Trump  2020    2.0          958410\n",
            "300          Oregon     Joe Biden  2020    1.0         1340291\n",
            "313    Pennsylvania  Donald Trump  2020    2.0         3378263\n",
            "317    Pennsylvania     Joe Biden  2020    1.0         3459923\n",
            "327  South Carolina  Donald Trump  2020    2.0         1385103\n",
            "328  South Carolina     Joe Biden  2020    1.0         1091541\n",
            "333       Tennessee  Donald Trump  2020    2.0         1849820\n",
            "334       Tennessee     Joe Biden  2020    1.0         1139376\n",
            "348           Texas  Donald Trump  2020    2.0         5890347\n",
            "352           Texas     Joe Biden  2020    1.0         5259126\n",
            "370        Virginia  Donald Trump  2020    2.0         1962430\n",
            "372        Virginia     Joe Biden  2020    1.0         2413568\n",
            "384      Washington  Donald Trump  2020    2.0         1584588\n",
            "387      Washington     Joe Biden  2020    1.0         2369437\n",
            "398       Wisconsin  Donald Trump  2020    2.0         1610151\n",
            "401       Wisconsin     Joe Biden  2020    1.0         1630716\n"
          ],
          "name": "stdout"
        }
      ]
    },
    {
      "cell_type": "code",
      "metadata": {
        "colab": {
          "base_uri": "https://localhost:8080/"
        },
        "id": "2fXHnIQ5zN-R",
        "outputId": "cf69d7b8-f3f3-4927-cf96-dee882d095c6"
      },
      "source": [
        "print(\"Accuracy percentage:\", 100*list(train['anomaly']).count(-1)/(outliers_counter))"
      ],
      "execution_count": 133,
      "outputs": [
        {
          "output_type": "stream",
          "text": [
            "Accuracy percentage: 92.53393665158372\n"
          ],
          "name": "stdout"
        }
      ]
    }
  ]
}