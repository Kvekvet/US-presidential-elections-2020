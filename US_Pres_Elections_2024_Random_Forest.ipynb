{
  "nbformat": 4,
  "nbformat_minor": 0,
  "metadata": {
    "colab": {
      "name": "US Pres Elections 2024 Random Forest.ipynb",
      "provenance": [],
      "collapsed_sections": []
    },
    "kernelspec": {
      "display_name": "Python 3",
      "name": "python3"
    }
  },
  "cells": [
    {
      "cell_type": "markdown",
      "metadata": {
        "id": "ByFXFeH8Jd3y"
      },
      "source": [
        "This program is a continuation of the file US Presidential Elections 2020"
      ]
    },
    {
      "cell_type": "markdown",
      "metadata": {
        "id": "jjIrtIt0Jscw"
      },
      "source": [
        "Import libraries"
      ]
    },
    {
      "cell_type": "code",
      "metadata": {
        "id": "Zkkn98NOJRLk"
      },
      "source": [
        "import pandas as pd\n",
        "import numpy as np\n",
        "import matplotlib.pyplot as plt\n",
        "import seaborn as sns"
      ],
      "execution_count": 15,
      "outputs": []
    },
    {
      "cell_type": "markdown",
      "metadata": {
        "id": "nPemcvlDJ1DT"
      },
      "source": [
        "Load and read file.\n",
        "\n",
        "File was taken from the following sites and apended:-\n",
        "present taken from:- https://www.kaggle.com/unanimad/us-election-2020?select=president_county_candidate.csv\n",
        "past taken from:- https://electionlab.mit.edu/data"
      ]
    },
    {
      "cell_type": "code",
      "metadata": {
        "colab": {
          "base_uri": "https://localhost:8080/",
          "height": 407
        },
        "id": "WUDepZNeKGH0",
        "outputId": "5b65c73f-20b6-4d31-8e6b-65757d949cc7"
      },
      "source": [
        "train=pd.read_csv(\"https://raw.githubusercontent.com/TracyRenee61/US-presidential-elections-2020/main/series.csv\")\n",
        "train"
      ],
      "execution_count": 16,
      "outputs": [
        {
          "output_type": "execute_result",
          "data": {
            "text/html": [
              "<div>\n",
              "<style scoped>\n",
              "    .dataframe tbody tr th:only-of-type {\n",
              "        vertical-align: middle;\n",
              "    }\n",
              "\n",
              "    .dataframe tbody tr th {\n",
              "        vertical-align: top;\n",
              "    }\n",
              "\n",
              "    .dataframe thead th {\n",
              "        text-align: right;\n",
              "    }\n",
              "</style>\n",
              "<table border=\"1\" class=\"dataframe\">\n",
              "  <thead>\n",
              "    <tr style=\"text-align: right;\">\n",
              "      <th></th>\n",
              "      <th>state</th>\n",
              "      <th>candidate</th>\n",
              "      <th>party</th>\n",
              "      <th>year</th>\n",
              "      <th>candidatevotes</th>\n",
              "    </tr>\n",
              "  </thead>\n",
              "  <tbody>\n",
              "    <tr>\n",
              "      <th>0</th>\n",
              "      <td>Alabama</td>\n",
              "      <td>Carter, Jimmy</td>\n",
              "      <td>1.0</td>\n",
              "      <td>1976</td>\n",
              "      <td>659170</td>\n",
              "    </tr>\n",
              "    <tr>\n",
              "      <th>1</th>\n",
              "      <td>Alabama</td>\n",
              "      <td>Ford, Gerald</td>\n",
              "      <td>2.0</td>\n",
              "      <td>1976</td>\n",
              "      <td>504070</td>\n",
              "    </tr>\n",
              "    <tr>\n",
              "      <th>2</th>\n",
              "      <td>Alabama</td>\n",
              "      <td>Maddox, Lester</td>\n",
              "      <td>3.0</td>\n",
              "      <td>1976</td>\n",
              "      <td>9198</td>\n",
              "    </tr>\n",
              "    <tr>\n",
              "      <th>3</th>\n",
              "      <td>Alabama</td>\n",
              "      <td>Bubar, Benjamin \"\"Ben\"\"</td>\n",
              "      <td>3.0</td>\n",
              "      <td>1976</td>\n",
              "      <td>6669</td>\n",
              "    </tr>\n",
              "    <tr>\n",
              "      <th>4</th>\n",
              "      <td>Alabama</td>\n",
              "      <td>Hall, Gus</td>\n",
              "      <td>3.0</td>\n",
              "      <td>1976</td>\n",
              "      <td>1954</td>\n",
              "    </tr>\n",
              "    <tr>\n",
              "      <th>...</th>\n",
              "      <td>...</td>\n",
              "      <td>...</td>\n",
              "      <td>...</td>\n",
              "      <td>...</td>\n",
              "      <td>...</td>\n",
              "    </tr>\n",
              "    <tr>\n",
              "      <th>4086</th>\n",
              "      <td>Wyoming</td>\n",
              "      <td>Write-ins</td>\n",
              "      <td>3.0</td>\n",
              "      <td>2020</td>\n",
              "      <td>1739</td>\n",
              "    </tr>\n",
              "    <tr>\n",
              "      <th>4087</th>\n",
              "      <td>Wyoming</td>\n",
              "      <td>Brock Pierce</td>\n",
              "      <td>3.0</td>\n",
              "      <td>2020</td>\n",
              "      <td>2208</td>\n",
              "    </tr>\n",
              "    <tr>\n",
              "      <th>4088</th>\n",
              "      <td>Wyoming</td>\n",
              "      <td>Donald Trump</td>\n",
              "      <td>2.0</td>\n",
              "      <td>2020</td>\n",
              "      <td>193559</td>\n",
              "    </tr>\n",
              "    <tr>\n",
              "      <th>4089</th>\n",
              "      <td>Wyoming</td>\n",
              "      <td>Jo Jorgensen</td>\n",
              "      <td>3.0</td>\n",
              "      <td>2020</td>\n",
              "      <td>5768</td>\n",
              "    </tr>\n",
              "    <tr>\n",
              "      <th>4090</th>\n",
              "      <td>Wyoming</td>\n",
              "      <td>Joe Biden</td>\n",
              "      <td>1.0</td>\n",
              "      <td>2020</td>\n",
              "      <td>73491</td>\n",
              "    </tr>\n",
              "  </tbody>\n",
              "</table>\n",
              "<p>4091 rows × 5 columns</p>\n",
              "</div>"
            ],
            "text/plain": [
              "        state                candidate  party  year  candidatevotes\n",
              "0     Alabama            Carter, Jimmy    1.0  1976          659170\n",
              "1     Alabama             Ford, Gerald    2.0  1976          504070\n",
              "2     Alabama           Maddox, Lester    3.0  1976            9198\n",
              "3     Alabama  Bubar, Benjamin \"\"Ben\"\"    3.0  1976            6669\n",
              "4     Alabama                Hall, Gus    3.0  1976            1954\n",
              "...       ...                      ...    ...   ...             ...\n",
              "4086  Wyoming                Write-ins    3.0  2020            1739\n",
              "4087  Wyoming             Brock Pierce    3.0  2020            2208\n",
              "4088  Wyoming             Donald Trump    2.0  2020          193559\n",
              "4089  Wyoming             Jo Jorgensen    3.0  2020            5768\n",
              "4090  Wyoming                Joe Biden    1.0  2020           73491\n",
              "\n",
              "[4091 rows x 5 columns]"
            ]
          },
          "metadata": {
            "tags": []
          },
          "execution_count": 16
        }
      ]
    },
    {
      "cell_type": "markdown",
      "metadata": {
        "id": "GSVGnfiWKsVB"
      },
      "source": [
        "Check for null values"
      ]
    },
    {
      "cell_type": "code",
      "metadata": {
        "colab": {
          "base_uri": "https://localhost:8080/"
        },
        "id": "FURj2D4zKxwk",
        "outputId": "a941a03b-d253-4eb2-eaf2-dd49413d1560"
      },
      "source": [
        "train.isnull().sum()"
      ],
      "execution_count": 17,
      "outputs": [
        {
          "output_type": "execute_result",
          "data": {
            "text/plain": [
              "state             0\n",
              "candidate         0\n",
              "party             0\n",
              "year              0\n",
              "candidatevotes    0\n",
              "dtype: int64"
            ]
          },
          "metadata": {
            "tags": []
          },
          "execution_count": 17
        }
      ]
    },
    {
      "cell_type": "markdown",
      "metadata": {
        "id": "ZvVmcosMLB2q"
      },
      "source": [
        "Create dataset"
      ]
    },
    {
      "cell_type": "code",
      "metadata": {
        "colab": {
          "base_uri": "https://localhost:8080/",
          "height": 437
        },
        "id": "MKGlDNYALGOx",
        "outputId": "af415eee-9e5b-4168-ee16-bf64f1c665ce"
      },
      "source": [
        "#create pivot table\n",
        "dataset = train.pivot_table(index = ['state', 'party'],values = ['candidatevotes'],columns = ['year'],fill_value = 0,aggfunc='sum')\n",
        "dataset.reset_index(inplace = True)\n",
        "dataset"
      ],
      "execution_count": 18,
      "outputs": [
        {
          "output_type": "execute_result",
          "data": {
            "text/html": [
              "<div>\n",
              "<style scoped>\n",
              "    .dataframe tbody tr th:only-of-type {\n",
              "        vertical-align: middle;\n",
              "    }\n",
              "\n",
              "    .dataframe tbody tr th {\n",
              "        vertical-align: top;\n",
              "    }\n",
              "\n",
              "    .dataframe thead tr th {\n",
              "        text-align: left;\n",
              "    }\n",
              "</style>\n",
              "<table border=\"1\" class=\"dataframe\">\n",
              "  <thead>\n",
              "    <tr>\n",
              "      <th></th>\n",
              "      <th>state</th>\n",
              "      <th>party</th>\n",
              "      <th colspan=\"12\" halign=\"left\">candidatevotes</th>\n",
              "    </tr>\n",
              "    <tr>\n",
              "      <th>year</th>\n",
              "      <th></th>\n",
              "      <th></th>\n",
              "      <th>1976</th>\n",
              "      <th>1980</th>\n",
              "      <th>1984</th>\n",
              "      <th>1988</th>\n",
              "      <th>1992</th>\n",
              "      <th>1996</th>\n",
              "      <th>2000</th>\n",
              "      <th>2004</th>\n",
              "      <th>2008</th>\n",
              "      <th>2012</th>\n",
              "      <th>2016</th>\n",
              "      <th>2020</th>\n",
              "    </tr>\n",
              "  </thead>\n",
              "  <tbody>\n",
              "    <tr>\n",
              "      <th>0</th>\n",
              "      <td>Alabama</td>\n",
              "      <td>1.0</td>\n",
              "      <td>659170</td>\n",
              "      <td>636730</td>\n",
              "      <td>551899</td>\n",
              "      <td>549506</td>\n",
              "      <td>690080</td>\n",
              "      <td>662165</td>\n",
              "      <td>692611</td>\n",
              "      <td>693933</td>\n",
              "      <td>813479</td>\n",
              "      <td>795696</td>\n",
              "      <td>729547</td>\n",
              "      <td>849624</td>\n",
              "    </tr>\n",
              "    <tr>\n",
              "      <th>1</th>\n",
              "      <td>Alabama</td>\n",
              "      <td>2.0</td>\n",
              "      <td>504070</td>\n",
              "      <td>654192</td>\n",
              "      <td>872849</td>\n",
              "      <td>815576</td>\n",
              "      <td>804283</td>\n",
              "      <td>769044</td>\n",
              "      <td>941173</td>\n",
              "      <td>1176394</td>\n",
              "      <td>1266546</td>\n",
              "      <td>1255925</td>\n",
              "      <td>1318255</td>\n",
              "      <td>1441170</td>\n",
              "    </tr>\n",
              "    <tr>\n",
              "      <th>2</th>\n",
              "      <td>Alabama</td>\n",
              "      <td>3.0</td>\n",
              "      <td>19610</td>\n",
              "      <td>51007</td>\n",
              "      <td>16965</td>\n",
              "      <td>13394</td>\n",
              "      <td>193697</td>\n",
              "      <td>103140</td>\n",
              "      <td>32488</td>\n",
              "      <td>13088</td>\n",
              "      <td>19794</td>\n",
              "      <td>22717</td>\n",
              "      <td>75570</td>\n",
              "      <td>32488</td>\n",
              "    </tr>\n",
              "    <tr>\n",
              "      <th>3</th>\n",
              "      <td>Alaska</td>\n",
              "      <td>1.0</td>\n",
              "      <td>44058</td>\n",
              "      <td>41842</td>\n",
              "      <td>62007</td>\n",
              "      <td>72584</td>\n",
              "      <td>78294</td>\n",
              "      <td>80380</td>\n",
              "      <td>79004</td>\n",
              "      <td>111025</td>\n",
              "      <td>123594</td>\n",
              "      <td>122640</td>\n",
              "      <td>116454</td>\n",
              "      <td>153129</td>\n",
              "    </tr>\n",
              "    <tr>\n",
              "      <th>4</th>\n",
              "      <td>Alaska</td>\n",
              "      <td>2.0</td>\n",
              "      <td>71555</td>\n",
              "      <td>86112</td>\n",
              "      <td>138377</td>\n",
              "      <td>119251</td>\n",
              "      <td>102000</td>\n",
              "      <td>122746</td>\n",
              "      <td>167398</td>\n",
              "      <td>190889</td>\n",
              "      <td>193841</td>\n",
              "      <td>164676</td>\n",
              "      <td>163387</td>\n",
              "      <td>189484</td>\n",
              "    </tr>\n",
              "    <tr>\n",
              "      <th>...</th>\n",
              "      <td>...</td>\n",
              "      <td>...</td>\n",
              "      <td>...</td>\n",
              "      <td>...</td>\n",
              "      <td>...</td>\n",
              "      <td>...</td>\n",
              "      <td>...</td>\n",
              "      <td>...</td>\n",
              "      <td>...</td>\n",
              "      <td>...</td>\n",
              "      <td>...</td>\n",
              "      <td>...</td>\n",
              "      <td>...</td>\n",
              "      <td>...</td>\n",
              "    </tr>\n",
              "    <tr>\n",
              "      <th>148</th>\n",
              "      <td>Wisconsin</td>\n",
              "      <td>2.0</td>\n",
              "      <td>1004987</td>\n",
              "      <td>1088845</td>\n",
              "      <td>1198584</td>\n",
              "      <td>1047499</td>\n",
              "      <td>930855</td>\n",
              "      <td>845029</td>\n",
              "      <td>1237279</td>\n",
              "      <td>1478120</td>\n",
              "      <td>1262393</td>\n",
              "      <td>1410966</td>\n",
              "      <td>1405284</td>\n",
              "      <td>1610151</td>\n",
              "    </tr>\n",
              "    <tr>\n",
              "      <th>149</th>\n",
              "      <td>Wisconsin</td>\n",
              "      <td>3.0</td>\n",
              "      <td>56117</td>\n",
              "      <td>202792</td>\n",
              "      <td>17365</td>\n",
              "      <td>17315</td>\n",
              "      <td>559143</td>\n",
              "      <td>279169</td>\n",
              "      <td>118341</td>\n",
              "      <td>29383</td>\n",
              "      <td>43813</td>\n",
              "      <td>39483</td>\n",
              "      <td>188330</td>\n",
              "      <td>56567</td>\n",
              "    </tr>\n",
              "    <tr>\n",
              "      <th>150</th>\n",
              "      <td>Wyoming</td>\n",
              "      <td>1.0</td>\n",
              "      <td>62239</td>\n",
              "      <td>49427</td>\n",
              "      <td>53370</td>\n",
              "      <td>67113</td>\n",
              "      <td>68160</td>\n",
              "      <td>77934</td>\n",
              "      <td>60481</td>\n",
              "      <td>70776</td>\n",
              "      <td>82868</td>\n",
              "      <td>69286</td>\n",
              "      <td>55973</td>\n",
              "      <td>73491</td>\n",
              "    </tr>\n",
              "    <tr>\n",
              "      <th>151</th>\n",
              "      <td>Wyoming</td>\n",
              "      <td>2.0</td>\n",
              "      <td>92717</td>\n",
              "      <td>110700</td>\n",
              "      <td>133241</td>\n",
              "      <td>106867</td>\n",
              "      <td>79347</td>\n",
              "      <td>105388</td>\n",
              "      <td>147947</td>\n",
              "      <td>167629</td>\n",
              "      <td>164958</td>\n",
              "      <td>170962</td>\n",
              "      <td>174419</td>\n",
              "      <td>193559</td>\n",
              "    </tr>\n",
              "    <tr>\n",
              "      <th>152</th>\n",
              "      <td>Wyoming</td>\n",
              "      <td>3.0</td>\n",
              "      <td>1387</td>\n",
              "      <td>16586</td>\n",
              "      <td>2357</td>\n",
              "      <td>2571</td>\n",
              "      <td>52377</td>\n",
              "      <td>28249</td>\n",
              "      <td>5298</td>\n",
              "      <td>5456</td>\n",
              "      <td>7078</td>\n",
              "      <td>10453</td>\n",
              "      <td>28396</td>\n",
              "      <td>9715</td>\n",
              "    </tr>\n",
              "  </tbody>\n",
              "</table>\n",
              "<p>153 rows × 14 columns</p>\n",
              "</div>"
            ],
            "text/plain": [
              "          state party candidatevotes  ...                           \n",
              "year                            1976  ...     2012     2016     2020\n",
              "0       Alabama   1.0         659170  ...   795696   729547   849624\n",
              "1       Alabama   2.0         504070  ...  1255925  1318255  1441170\n",
              "2       Alabama   3.0          19610  ...    22717    75570    32488\n",
              "3        Alaska   1.0          44058  ...   122640   116454   153129\n",
              "4        Alaska   2.0          71555  ...   164676   163387   189484\n",
              "..          ...   ...            ...  ...      ...      ...      ...\n",
              "148   Wisconsin   2.0        1004987  ...  1410966  1405284  1610151\n",
              "149   Wisconsin   3.0          56117  ...    39483   188330    56567\n",
              "150     Wyoming   1.0          62239  ...    69286    55973    73491\n",
              "151     Wyoming   2.0          92717  ...   170962   174419   193559\n",
              "152     Wyoming   3.0           1387  ...    10453    28396     9715\n",
              "\n",
              "[153 rows x 14 columns]"
            ]
          },
          "metadata": {
            "tags": []
          },
          "execution_count": 18
        }
      ]
    },
    {
      "cell_type": "code",
      "metadata": {
        "colab": {
          "base_uri": "https://localhost:8080/",
          "height": 492
        },
        "id": "8rTIsBmGMtSB",
        "outputId": "6824e5e0-d459-426b-e2db-ae72e596c149"
      },
      "source": [
        "state = dataset.state\n",
        "party = dataset.party\n",
        "\n",
        "dataset = dataset.drop(['state', 'party'],axis=1)\n",
        "dataset"
      ],
      "execution_count": 19,
      "outputs": [
        {
          "output_type": "stream",
          "text": [
            "/usr/local/lib/python3.6/dist-packages/pandas/core/generic.py:3887: PerformanceWarning: dropping on a non-lexsorted multi-index without a level parameter may impact performance.\n",
            "  obj = obj._drop_axis(labels, axis, level=level, errors=errors)\n"
          ],
          "name": "stderr"
        },
        {
          "output_type": "execute_result",
          "data": {
            "text/html": [
              "<div>\n",
              "<style scoped>\n",
              "    .dataframe tbody tr th:only-of-type {\n",
              "        vertical-align: middle;\n",
              "    }\n",
              "\n",
              "    .dataframe tbody tr th {\n",
              "        vertical-align: top;\n",
              "    }\n",
              "\n",
              "    .dataframe thead tr th {\n",
              "        text-align: left;\n",
              "    }\n",
              "</style>\n",
              "<table border=\"1\" class=\"dataframe\">\n",
              "  <thead>\n",
              "    <tr>\n",
              "      <th></th>\n",
              "      <th colspan=\"12\" halign=\"left\">candidatevotes</th>\n",
              "    </tr>\n",
              "    <tr>\n",
              "      <th>year</th>\n",
              "      <th>1976</th>\n",
              "      <th>1980</th>\n",
              "      <th>1984</th>\n",
              "      <th>1988</th>\n",
              "      <th>1992</th>\n",
              "      <th>1996</th>\n",
              "      <th>2000</th>\n",
              "      <th>2004</th>\n",
              "      <th>2008</th>\n",
              "      <th>2012</th>\n",
              "      <th>2016</th>\n",
              "      <th>2020</th>\n",
              "    </tr>\n",
              "  </thead>\n",
              "  <tbody>\n",
              "    <tr>\n",
              "      <th>0</th>\n",
              "      <td>659170</td>\n",
              "      <td>636730</td>\n",
              "      <td>551899</td>\n",
              "      <td>549506</td>\n",
              "      <td>690080</td>\n",
              "      <td>662165</td>\n",
              "      <td>692611</td>\n",
              "      <td>693933</td>\n",
              "      <td>813479</td>\n",
              "      <td>795696</td>\n",
              "      <td>729547</td>\n",
              "      <td>849624</td>\n",
              "    </tr>\n",
              "    <tr>\n",
              "      <th>1</th>\n",
              "      <td>504070</td>\n",
              "      <td>654192</td>\n",
              "      <td>872849</td>\n",
              "      <td>815576</td>\n",
              "      <td>804283</td>\n",
              "      <td>769044</td>\n",
              "      <td>941173</td>\n",
              "      <td>1176394</td>\n",
              "      <td>1266546</td>\n",
              "      <td>1255925</td>\n",
              "      <td>1318255</td>\n",
              "      <td>1441170</td>\n",
              "    </tr>\n",
              "    <tr>\n",
              "      <th>2</th>\n",
              "      <td>19610</td>\n",
              "      <td>51007</td>\n",
              "      <td>16965</td>\n",
              "      <td>13394</td>\n",
              "      <td>193697</td>\n",
              "      <td>103140</td>\n",
              "      <td>32488</td>\n",
              "      <td>13088</td>\n",
              "      <td>19794</td>\n",
              "      <td>22717</td>\n",
              "      <td>75570</td>\n",
              "      <td>32488</td>\n",
              "    </tr>\n",
              "    <tr>\n",
              "      <th>3</th>\n",
              "      <td>44058</td>\n",
              "      <td>41842</td>\n",
              "      <td>62007</td>\n",
              "      <td>72584</td>\n",
              "      <td>78294</td>\n",
              "      <td>80380</td>\n",
              "      <td>79004</td>\n",
              "      <td>111025</td>\n",
              "      <td>123594</td>\n",
              "      <td>122640</td>\n",
              "      <td>116454</td>\n",
              "      <td>153129</td>\n",
              "    </tr>\n",
              "    <tr>\n",
              "      <th>4</th>\n",
              "      <td>71555</td>\n",
              "      <td>86112</td>\n",
              "      <td>138377</td>\n",
              "      <td>119251</td>\n",
              "      <td>102000</td>\n",
              "      <td>122746</td>\n",
              "      <td>167398</td>\n",
              "      <td>190889</td>\n",
              "      <td>193841</td>\n",
              "      <td>164676</td>\n",
              "      <td>163387</td>\n",
              "      <td>189484</td>\n",
              "    </tr>\n",
              "    <tr>\n",
              "      <th>...</th>\n",
              "      <td>...</td>\n",
              "      <td>...</td>\n",
              "      <td>...</td>\n",
              "      <td>...</td>\n",
              "      <td>...</td>\n",
              "      <td>...</td>\n",
              "      <td>...</td>\n",
              "      <td>...</td>\n",
              "      <td>...</td>\n",
              "      <td>...</td>\n",
              "      <td>...</td>\n",
              "      <td>...</td>\n",
              "    </tr>\n",
              "    <tr>\n",
              "      <th>148</th>\n",
              "      <td>1004987</td>\n",
              "      <td>1088845</td>\n",
              "      <td>1198584</td>\n",
              "      <td>1047499</td>\n",
              "      <td>930855</td>\n",
              "      <td>845029</td>\n",
              "      <td>1237279</td>\n",
              "      <td>1478120</td>\n",
              "      <td>1262393</td>\n",
              "      <td>1410966</td>\n",
              "      <td>1405284</td>\n",
              "      <td>1610151</td>\n",
              "    </tr>\n",
              "    <tr>\n",
              "      <th>149</th>\n",
              "      <td>56117</td>\n",
              "      <td>202792</td>\n",
              "      <td>17365</td>\n",
              "      <td>17315</td>\n",
              "      <td>559143</td>\n",
              "      <td>279169</td>\n",
              "      <td>118341</td>\n",
              "      <td>29383</td>\n",
              "      <td>43813</td>\n",
              "      <td>39483</td>\n",
              "      <td>188330</td>\n",
              "      <td>56567</td>\n",
              "    </tr>\n",
              "    <tr>\n",
              "      <th>150</th>\n",
              "      <td>62239</td>\n",
              "      <td>49427</td>\n",
              "      <td>53370</td>\n",
              "      <td>67113</td>\n",
              "      <td>68160</td>\n",
              "      <td>77934</td>\n",
              "      <td>60481</td>\n",
              "      <td>70776</td>\n",
              "      <td>82868</td>\n",
              "      <td>69286</td>\n",
              "      <td>55973</td>\n",
              "      <td>73491</td>\n",
              "    </tr>\n",
              "    <tr>\n",
              "      <th>151</th>\n",
              "      <td>92717</td>\n",
              "      <td>110700</td>\n",
              "      <td>133241</td>\n",
              "      <td>106867</td>\n",
              "      <td>79347</td>\n",
              "      <td>105388</td>\n",
              "      <td>147947</td>\n",
              "      <td>167629</td>\n",
              "      <td>164958</td>\n",
              "      <td>170962</td>\n",
              "      <td>174419</td>\n",
              "      <td>193559</td>\n",
              "    </tr>\n",
              "    <tr>\n",
              "      <th>152</th>\n",
              "      <td>1387</td>\n",
              "      <td>16586</td>\n",
              "      <td>2357</td>\n",
              "      <td>2571</td>\n",
              "      <td>52377</td>\n",
              "      <td>28249</td>\n",
              "      <td>5298</td>\n",
              "      <td>5456</td>\n",
              "      <td>7078</td>\n",
              "      <td>10453</td>\n",
              "      <td>28396</td>\n",
              "      <td>9715</td>\n",
              "    </tr>\n",
              "  </tbody>\n",
              "</table>\n",
              "<p>153 rows × 12 columns</p>\n",
              "</div>"
            ],
            "text/plain": [
              "     candidatevotes                    ...                           \n",
              "year           1976     1980     1984  ...     2012     2016     2020\n",
              "0            659170   636730   551899  ...   795696   729547   849624\n",
              "1            504070   654192   872849  ...  1255925  1318255  1441170\n",
              "2             19610    51007    16965  ...    22717    75570    32488\n",
              "3             44058    41842    62007  ...   122640   116454   153129\n",
              "4             71555    86112   138377  ...   164676   163387   189484\n",
              "..              ...      ...      ...  ...      ...      ...      ...\n",
              "148         1004987  1088845  1198584  ...  1410966  1405284  1610151\n",
              "149           56117   202792    17365  ...    39483   188330    56567\n",
              "150           62239    49427    53370  ...    69286    55973    73491\n",
              "151           92717   110700   133241  ...   170962   174419   193559\n",
              "152            1387    16586     2357  ...    10453    28396     9715\n",
              "\n",
              "[153 rows x 12 columns]"
            ]
          },
          "metadata": {
            "tags": []
          },
          "execution_count": 19
        }
      ]
    },
    {
      "cell_type": "markdown",
      "metadata": {
        "id": "BSSBADHINjvy"
      },
      "source": [
        "Define X, y and X_test"
      ]
    },
    {
      "cell_type": "code",
      "metadata": {
        "colab": {
          "base_uri": "https://localhost:8080/"
        },
        "id": "PRO4bUSiNsp8",
        "outputId": "7d71ef52-d488-48cf-c18c-01da79a9e8a8"
      },
      "source": [
        "#split the dataset in two\n",
        "# the last column is our label\n",
        "y_train = dataset.iloc[:,-1:]\n",
        "#drop last column of data\n",
        "X_train = dataset.iloc[:, :-1]\n",
        "#drop first colum of data\n",
        "X_test = dataset.iloc[:,1:]\n",
        "# lets have a look on the shape \n",
        "print(X_train.shape,y_train.shape,X_test.shape)"
      ],
      "execution_count": 20,
      "outputs": [
        {
          "output_type": "stream",
          "text": [
            "(153, 11) (153, 1) (153, 11)\n"
          ],
          "name": "stdout"
        }
      ]
    },
    {
      "cell_type": "markdown",
      "metadata": {
        "id": "s1KVxnHuN7M-"
      },
      "source": [
        "Define the model"
      ]
    },
    {
      "cell_type": "code",
      "metadata": {
        "colab": {
          "base_uri": "https://localhost:8080/"
        },
        "id": "AenMwTmZN-Pi",
        "outputId": "b49b7a6e-8cf1-4d13-a6d2-3b86ddaa1daa"
      },
      "source": [
        "from sklearn.ensemble import AdaBoostRegressor\n",
        "from sklearn.ensemble import RandomForestRegressor\n",
        "\n",
        "model = AdaBoostRegressor(base_estimator = RandomForestRegressor(max_depth=5), random_state=1, n_estimators=1000).fit(X_train, y_train)\n",
        "\n",
        "y_pred = model.predict(X_train)\n",
        "y_pred"
      ],
      "execution_count": 21,
      "outputs": [
        {
          "output_type": "stream",
          "text": [
            "/usr/local/lib/python3.6/dist-packages/sklearn/utils/validation.py:760: DataConversionWarning: A column-vector y was passed when a 1d array was expected. Please change the shape of y to (n_samples, ), for example using ravel().\n",
            "  y = column_or_1d(y, warn=True)\n"
          ],
          "name": "stderr"
        },
        {
          "output_type": "execute_result",
          "data": {
            "text/plain": [
              "array([  878714.05503228,  1513577.4946361 ,    88542.89431096,\n",
              "         125975.60709325,   205921.93605826,    72034.15198198,\n",
              "        1611170.48538386,  1589339.24252262,    93257.7899494 ,\n",
              "         454066.84430718,   726671.69769647,    77881.34122807,\n",
              "       11082293.        ,  5982194.        ,   375516.49512522,\n",
              "        1726071.04311864,  1432241.2126182 ,   106378.19178326,\n",
              "        1131487.00920946,   677413.62880401,    98881.04439672,\n",
              "         303115.50995269,   214854.16811512,    70169.90073413,\n",
              "         359728.54463957,    78097.56591243,    70169.90073413,\n",
              "        5302647.66507576,  5657580.42      ,   134728.07197021,\n",
              "        2410375.18960302,  2552739.26964076,    86872.65330295,\n",
              "         426785.38834613,   220061.9375445 ,    71123.07471143,\n",
              "         284782.20136942,   529198.81443136,    76855.69056287,\n",
              "        4253945.68374603,  2880653.53570411,   159973.67557748,\n",
              "        1298487.15528401,  1801443.4994905 ,    99502.66140465,\n",
              "         833326.95540025,   838589.71065314,    90704.30950446,\n",
              "         596039.20878467,   838593.95782186,    89165.89949831,\n",
              "         833346.42644446,  1409949.99257675,    91289.47722717,\n",
              "         829107.41509   ,  1335533.60659764,    88795.60512879,\n",
              "         504064.24136504,   414114.18851874,    84290.3328236 ,\n",
              "        1902570.9651917 ,  1056482.32239753,    93595.61076117,\n",
              "        2461117.90367622,  1255055.95322701,   165724.43467488,\n",
              "        2715466.7370352 ,  2724250.85195347,   109460.99837695,\n",
              "        1665880.63365147,  1543722.105752  ,    95351.52703247,\n",
              "         539352.61639381,   842073.37067252,    72783.88361119,\n",
              "        1314249.30967308,  1807799.39109781,    95232.45575665,\n",
              "         293502.46432262,   331720.34984103,    71123.07471143,\n",
              "         439254.93089645,   593952.29113107,    81997.64941032,\n",
              "         631417.8116352 ,   595132.85297057,    73066.60721366,\n",
              "         500466.97205627,   442849.9807718 ,    70679.9992899 ,\n",
              "        2670091.11398412,  1889585.32348088,   103435.66511699,\n",
              "         529496.81512913,   480651.94988573,    74665.15264532,\n",
              "        4149397.35      ,  3078281.37556682,   174551.99788298,\n",
              "        2616949.87779386,  2687779.94413373,    97205.37465658,\n",
              "         184325.94068895,   240163.52566349,    70910.65908706,\n",
              "        2712063.44200108,  3183201.38654762,   149890.66574816,\n",
              "         572069.366904  ,  1059349.21237965,    79379.34035593,\n",
              "        1259539.43942204,   890109.28605063,   108155.13074632,\n",
              "        3468226.91941559,  3324986.423     ,   130175.74825265,\n",
              "         354810.38337907,   231854.16927121,    70614.34456629,\n",
              "        1043791.4220575 ,  1456246.41394658,    79469.73612173,\n",
              "         219753.55567998,   265263.92792463,    70169.90073413,\n",
              "        1132963.06343237,  1779005.60260553,    90276.10736298,\n",
              "        5259126.        ,  5859790.23      ,   196065.75977202,\n",
              "         491496.60700632,   789130.97238733,   130737.88893749,\n",
              "         231135.74586247,   180379.0538385 ,    70609.93456629,\n",
              "        2415099.91768458,  1982756.84507173,   109348.10729729,\n",
              "        2351700.61858569,  1495317.18211515,   192378.14060367,\n",
              "         310051.04958986,   523750.29471678,    71695.14618268,\n",
              "        1691268.57344163,  1623013.7650109 ,   101369.36298179,\n",
              "          97453.46187584,   195078.35273413,    70169.90073413])"
            ]
          },
          "metadata": {
            "tags": []
          },
          "execution_count": 21
        }
      ]
    },
    {
      "cell_type": "code",
      "metadata": {
        "id": "gSBpJc5FOHaV",
        "colab": {
          "base_uri": "https://localhost:8080/"
        },
        "outputId": "a4ed0381-b3ec-4907-d3ff-7a2759b3f7e5"
      },
      "source": [
        "print(model.score(X_train, y_train))"
      ],
      "execution_count": 22,
      "outputs": [
        {
          "output_type": "stream",
          "text": [
            "0.9987269569357847\n"
          ],
          "name": "stdout"
        }
      ]
    },
    {
      "cell_type": "markdown",
      "metadata": {
        "id": "LPpFrSRVPKAj"
      },
      "source": [
        "Make predictions"
      ]
    },
    {
      "cell_type": "code",
      "metadata": {
        "colab": {
          "base_uri": "https://localhost:8080/"
        },
        "id": "aqq5k7KFPNBH",
        "outputId": "71a1b1e8-4085-4e46-978d-955c8a5b3e6b"
      },
      "source": [
        "pred = model.predict(X_test)\n",
        "pred = pred.astype(int)\n",
        "pred"
      ],
      "execution_count": 27,
      "outputs": [
        {
          "output_type": "execute_result",
          "data": {
            "text/plain": [
              "array([  898359,  1636745,   145186,   139924,   209002,    87195,\n",
              "        1723731,  1739401,   172898,   559112,   690271,   117143,\n",
              "       11012788,  7355845,   603643,  1833293,  1577406,   196534,\n",
              "        1149708,   681403,   187081,   328155,   205060,    74392,\n",
              "         416840,    77525,    73650,  5513701,  5653548,   281937,\n",
              "        2473365,  2681438,   157121,   423637,   220567,    76597,\n",
              "         300195,   545238,   135140,  4326600,  3059394,   288241,\n",
              "        1460920,  1873148,   268659,   849784,   852039,   175035,\n",
              "         525494,   809865,   164537,   747229,  1505588,   143903,\n",
              "         883497,  1477684,   147830,   520374,   431795,   145943,\n",
              "        1990735,  1148983,   178618,  2583270,  1378161,   300139,\n",
              "        3176057,  2993783,   286690,  1320662,  1781391,  1125151,\n",
              "         540961,   871463,   110861,  1517151,  1869968,   262737,\n",
              "         259771,   424461,   114670,   410438,   539845,   139610,\n",
              "         580796,   593543,   134372,   505803,   482752,   116905,\n",
              "        2719930,  2010125,   278074,   533536,   468511,   115466,\n",
              "        4325779,  3464113,   578420,  2764625,  2807774,   161826,\n",
              "         181853,   256554,    78764,  3249436,  3627983,   283120,\n",
              "         665902,  1142078,   145835,  1501235,   879645,   196412,\n",
              "        4191451,  3614161,   278470,   371801,   226336,   116567,\n",
              "        1178102,  1590773,   116489,   194756,   280866,    78764,\n",
              "        1295387,  1908503,   145093,  5190815,  5736811,   297814,\n",
              "         451370,   718720,   164503,   246374,   179363,    78096,\n",
              "        2533990,  2467910,   196984,  2454366,  1776773,   291971,\n",
              "         289879,   549886,   111785,  1856965,  1821300,   278074,\n",
              "         121974,   206526,    74392])"
            ]
          },
          "metadata": {
            "tags": []
          },
          "execution_count": 27
        }
      ]
    },
    {
      "cell_type": "code",
      "metadata": {
        "id": "juo6v4UuPnb9",
        "colab": {
          "base_uri": "https://localhost:8080/",
          "height": 407
        },
        "outputId": "d1a5b56a-f8b4-4caf-bfad-998d2c01544d"
      },
      "source": [
        "# creating dataframe with required columns \n",
        "prediction = pd.DataFrame({'state':state,'party':party, 'prediction_2024': pred})\n",
        "prediction"
      ],
      "execution_count": 28,
      "outputs": [
        {
          "output_type": "execute_result",
          "data": {
            "text/html": [
              "<div>\n",
              "<style scoped>\n",
              "    .dataframe tbody tr th:only-of-type {\n",
              "        vertical-align: middle;\n",
              "    }\n",
              "\n",
              "    .dataframe tbody tr th {\n",
              "        vertical-align: top;\n",
              "    }\n",
              "\n",
              "    .dataframe thead th {\n",
              "        text-align: right;\n",
              "    }\n",
              "</style>\n",
              "<table border=\"1\" class=\"dataframe\">\n",
              "  <thead>\n",
              "    <tr style=\"text-align: right;\">\n",
              "      <th></th>\n",
              "      <th>state</th>\n",
              "      <th>party</th>\n",
              "      <th>prediction_2024</th>\n",
              "    </tr>\n",
              "  </thead>\n",
              "  <tbody>\n",
              "    <tr>\n",
              "      <th>0</th>\n",
              "      <td>Alabama</td>\n",
              "      <td>1.0</td>\n",
              "      <td>898359</td>\n",
              "    </tr>\n",
              "    <tr>\n",
              "      <th>1</th>\n",
              "      <td>Alabama</td>\n",
              "      <td>2.0</td>\n",
              "      <td>1636745</td>\n",
              "    </tr>\n",
              "    <tr>\n",
              "      <th>2</th>\n",
              "      <td>Alabama</td>\n",
              "      <td>3.0</td>\n",
              "      <td>145186</td>\n",
              "    </tr>\n",
              "    <tr>\n",
              "      <th>3</th>\n",
              "      <td>Alaska</td>\n",
              "      <td>1.0</td>\n",
              "      <td>139924</td>\n",
              "    </tr>\n",
              "    <tr>\n",
              "      <th>4</th>\n",
              "      <td>Alaska</td>\n",
              "      <td>2.0</td>\n",
              "      <td>209002</td>\n",
              "    </tr>\n",
              "    <tr>\n",
              "      <th>...</th>\n",
              "      <td>...</td>\n",
              "      <td>...</td>\n",
              "      <td>...</td>\n",
              "    </tr>\n",
              "    <tr>\n",
              "      <th>148</th>\n",
              "      <td>Wisconsin</td>\n",
              "      <td>2.0</td>\n",
              "      <td>1821300</td>\n",
              "    </tr>\n",
              "    <tr>\n",
              "      <th>149</th>\n",
              "      <td>Wisconsin</td>\n",
              "      <td>3.0</td>\n",
              "      <td>278074</td>\n",
              "    </tr>\n",
              "    <tr>\n",
              "      <th>150</th>\n",
              "      <td>Wyoming</td>\n",
              "      <td>1.0</td>\n",
              "      <td>121974</td>\n",
              "    </tr>\n",
              "    <tr>\n",
              "      <th>151</th>\n",
              "      <td>Wyoming</td>\n",
              "      <td>2.0</td>\n",
              "      <td>206526</td>\n",
              "    </tr>\n",
              "    <tr>\n",
              "      <th>152</th>\n",
              "      <td>Wyoming</td>\n",
              "      <td>3.0</td>\n",
              "      <td>74392</td>\n",
              "    </tr>\n",
              "  </tbody>\n",
              "</table>\n",
              "<p>153 rows × 3 columns</p>\n",
              "</div>"
            ],
            "text/plain": [
              "         state  party  prediction_2024\n",
              "0      Alabama    1.0           898359\n",
              "1      Alabama    2.0          1636745\n",
              "2      Alabama    3.0           145186\n",
              "3       Alaska    1.0           139924\n",
              "4       Alaska    2.0           209002\n",
              "..         ...    ...              ...\n",
              "148  Wisconsin    2.0          1821300\n",
              "149  Wisconsin    3.0           278074\n",
              "150    Wyoming    1.0           121974\n",
              "151    Wyoming    2.0           206526\n",
              "152    Wyoming    3.0            74392\n",
              "\n",
              "[153 rows x 3 columns]"
            ]
          },
          "metadata": {
            "tags": []
          },
          "execution_count": 28
        }
      ]
    },
    {
      "cell_type": "markdown",
      "metadata": {
        "id": "7TBywGStUy5p"
      },
      "source": [
        "Graphical representation\n",
        "Democrat 1, Republican 2, Other 3"
      ]
    },
    {
      "cell_type": "code",
      "metadata": {
        "colab": {
          "base_uri": "https://localhost:8080/",
          "height": 285
        },
        "id": "kHi4qUXJU3HQ",
        "outputId": "dbedde5d-de73-4f87-cc56-04bff6be98fd"
      },
      "source": [
        "prediction.groupby('party')['prediction_2024'].count().plot.bar(ylim=0)\n",
        "plt.show()"
      ],
      "execution_count": 32,
      "outputs": [
        {
          "output_type": "display_data",
          "data": {
            "image/png": "[encoded data removed]",
            "text/plain": [
              "<Figure size 432x288 with 1 Axes>"
            ]
          },
          "metadata": {
            "tags": [],
            "needs_background": "light"
          }
        }
      ]
    },
    {
      "cell_type": "code",
      "metadata": {
        "colab": {
          "base_uri": "https://localhost:8080/"
        },
        "id": "0uMWZf_SVgxR",
        "outputId": "023cba25-ce0f-4a60-8eb5-ec871d37dd8b"
      },
      "source": [
        "predict_winner = prediction.groupby('party')['prediction_2024'].sum()\n",
        "predict_winner"
      ],
      "execution_count": 33,
      "outputs": [
        {
          "output_type": "execute_result",
          "data": {
            "text/plain": [
              "party\n",
              "1.0    85291876\n",
              "2.0    81102023\n",
              "3.0    10479337\n",
              "Name: prediction_2024, dtype: int64"
            ]
          },
          "metadata": {
            "tags": []
          },
          "execution_count": 33
        }
      ]
    }
  ]
}