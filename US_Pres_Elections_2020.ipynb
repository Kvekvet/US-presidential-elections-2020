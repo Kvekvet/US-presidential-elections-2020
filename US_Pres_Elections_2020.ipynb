{
  "nbformat": 4,
  "nbformat_minor": 0,
  "metadata": {
    "colab": {
      "name": "US Pres Elections 2020.ipynb",
      "provenance": []
    },
    "kernelspec": {
      "name": "python3",
      "display_name": "Python 3"
    }
  },
  "cells": [
    {
      "cell_type": "markdown",
      "metadata": {
        "id": "l5llC6UnBYnN"
      },
      "source": [
        "Load libraries"
      ]
    },
    {
      "cell_type": "code",
      "metadata": {
        "id": "4ViPVZBRBIOJ"
      },
      "source": [
        "import pandas as pd\n",
        "import numpy as np\n",
        "import matplotlib.pyplot as plt\n",
        "import seaborn as sns"
      ],
      "execution_count": 376,
      "outputs": []
    },
    {
      "cell_type": "markdown",
      "metadata": {
        "id": "odoTzh6jBfkc"
      },
      "source": [
        "Load files"
      ]
    },
    {
      "cell_type": "code",
      "metadata": {
        "id": "J6147cFmBh3t"
      },
      "source": [
        "past=pd.read_csv(\"https://raw.githubusercontent.com/TracyRenee61/US-presidential-elections-2020/main/1976-2016-president.csv\")\n",
        "present=pd.read_csv(\"https://raw.githubusercontent.com/TracyRenee61/US-presidential-elections-2020/main/president_county_candidate.csv\")\n",
        "#present taken from:- https://www.kaggle.com/unanimad/us-election-2020?select=president_county_candidate.csv\n",
        "#past taken from:- https://electionlab.mit.edu/data"
      ],
      "execution_count": 377,
      "outputs": []
    },
    {
      "cell_type": "code",
      "metadata": {
        "colab": {
          "base_uri": "https://localhost:8080/",
          "height": 635
        },
        "id": "AO7VS4M5DHB5",
        "outputId": "f4c6c0f6-d565-4178-8f05-9386e463cb7c"
      },
      "source": [
        "past"
      ],
      "execution_count": 378,
      "outputs": [
        {
          "output_type": "execute_result",
          "data": {
            "text/html": [
              "<div>\n",
              "<style scoped>\n",
              "    .dataframe tbody tr th:only-of-type {\n",
              "        vertical-align: middle;\n",
              "    }\n",
              "\n",
              "    .dataframe tbody tr th {\n",
              "        vertical-align: top;\n",
              "    }\n",
              "\n",
              "    .dataframe thead th {\n",
              "        text-align: right;\n",
              "    }\n",
              "</style>\n",
              "<table border=\"1\" class=\"dataframe\">\n",
              "  <thead>\n",
              "    <tr style=\"text-align: right;\">\n",
              "      <th></th>\n",
              "      <th>year</th>\n",
              "      <th>state</th>\n",
              "      <th>state_po</th>\n",
              "      <th>state_fips</th>\n",
              "      <th>state_cen</th>\n",
              "      <th>state_ic</th>\n",
              "      <th>office</th>\n",
              "      <th>candidate</th>\n",
              "      <th>party</th>\n",
              "      <th>writein</th>\n",
              "      <th>candidatevotes</th>\n",
              "      <th>totalvotes</th>\n",
              "      <th>version</th>\n",
              "      <th>notes</th>\n",
              "    </tr>\n",
              "  </thead>\n",
              "  <tbody>\n",
              "    <tr>\n",
              "      <th>0</th>\n",
              "      <td>1976</td>\n",
              "      <td>Alabama</td>\n",
              "      <td>AL</td>\n",
              "      <td>1</td>\n",
              "      <td>63</td>\n",
              "      <td>41</td>\n",
              "      <td>US President</td>\n",
              "      <td>Carter, Jimmy</td>\n",
              "      <td>democrat</td>\n",
              "      <td>False</td>\n",
              "      <td>659170</td>\n",
              "      <td>1182850</td>\n",
              "      <td>20171015</td>\n",
              "      <td>NaN</td>\n",
              "    </tr>\n",
              "    <tr>\n",
              "      <th>1</th>\n",
              "      <td>1976</td>\n",
              "      <td>Alabama</td>\n",
              "      <td>AL</td>\n",
              "      <td>1</td>\n",
              "      <td>63</td>\n",
              "      <td>41</td>\n",
              "      <td>US President</td>\n",
              "      <td>Ford, Gerald</td>\n",
              "      <td>republican</td>\n",
              "      <td>False</td>\n",
              "      <td>504070</td>\n",
              "      <td>1182850</td>\n",
              "      <td>20171015</td>\n",
              "      <td>NaN</td>\n",
              "    </tr>\n",
              "    <tr>\n",
              "      <th>2</th>\n",
              "      <td>1976</td>\n",
              "      <td>Alabama</td>\n",
              "      <td>AL</td>\n",
              "      <td>1</td>\n",
              "      <td>63</td>\n",
              "      <td>41</td>\n",
              "      <td>US President</td>\n",
              "      <td>Maddox, Lester</td>\n",
              "      <td>american independent party</td>\n",
              "      <td>False</td>\n",
              "      <td>9198</td>\n",
              "      <td>1182850</td>\n",
              "      <td>20171015</td>\n",
              "      <td>NaN</td>\n",
              "    </tr>\n",
              "    <tr>\n",
              "      <th>3</th>\n",
              "      <td>1976</td>\n",
              "      <td>Alabama</td>\n",
              "      <td>AL</td>\n",
              "      <td>1</td>\n",
              "      <td>63</td>\n",
              "      <td>41</td>\n",
              "      <td>US President</td>\n",
              "      <td>Bubar, Benjamin \"\"Ben\"\"</td>\n",
              "      <td>prohibition</td>\n",
              "      <td>False</td>\n",
              "      <td>6669</td>\n",
              "      <td>1182850</td>\n",
              "      <td>20171015</td>\n",
              "      <td>NaN</td>\n",
              "    </tr>\n",
              "    <tr>\n",
              "      <th>4</th>\n",
              "      <td>1976</td>\n",
              "      <td>Alabama</td>\n",
              "      <td>AL</td>\n",
              "      <td>1</td>\n",
              "      <td>63</td>\n",
              "      <td>41</td>\n",
              "      <td>US President</td>\n",
              "      <td>Hall, Gus</td>\n",
              "      <td>communist party use</td>\n",
              "      <td>False</td>\n",
              "      <td>1954</td>\n",
              "      <td>1182850</td>\n",
              "      <td>20171015</td>\n",
              "      <td>NaN</td>\n",
              "    </tr>\n",
              "    <tr>\n",
              "      <th>...</th>\n",
              "      <td>...</td>\n",
              "      <td>...</td>\n",
              "      <td>...</td>\n",
              "      <td>...</td>\n",
              "      <td>...</td>\n",
              "      <td>...</td>\n",
              "      <td>...</td>\n",
              "      <td>...</td>\n",
              "      <td>...</td>\n",
              "      <td>...</td>\n",
              "      <td>...</td>\n",
              "      <td>...</td>\n",
              "      <td>...</td>\n",
              "      <td>...</td>\n",
              "    </tr>\n",
              "    <tr>\n",
              "      <th>3735</th>\n",
              "      <td>2016</td>\n",
              "      <td>Wyoming</td>\n",
              "      <td>WY</td>\n",
              "      <td>56</td>\n",
              "      <td>83</td>\n",
              "      <td>68</td>\n",
              "      <td>US President</td>\n",
              "      <td>NaN</td>\n",
              "      <td>NaN</td>\n",
              "      <td>True</td>\n",
              "      <td>6904</td>\n",
              "      <td>258788</td>\n",
              "      <td>20171015</td>\n",
              "      <td>NaN</td>\n",
              "    </tr>\n",
              "    <tr>\n",
              "      <th>3736</th>\n",
              "      <td>2016</td>\n",
              "      <td>Wyoming</td>\n",
              "      <td>WY</td>\n",
              "      <td>56</td>\n",
              "      <td>83</td>\n",
              "      <td>68</td>\n",
              "      <td>US President</td>\n",
              "      <td>NaN</td>\n",
              "      <td>independent</td>\n",
              "      <td>False</td>\n",
              "      <td>3224</td>\n",
              "      <td>258788</td>\n",
              "      <td>20171015</td>\n",
              "      <td>NaN</td>\n",
              "    </tr>\n",
              "    <tr>\n",
              "      <th>3737</th>\n",
              "      <td>2016</td>\n",
              "      <td>Wyoming</td>\n",
              "      <td>WY</td>\n",
              "      <td>56</td>\n",
              "      <td>83</td>\n",
              "      <td>68</td>\n",
              "      <td>US President</td>\n",
              "      <td>Blank Vote</td>\n",
              "      <td>NaN</td>\n",
              "      <td>False</td>\n",
              "      <td>2661</td>\n",
              "      <td>258788</td>\n",
              "      <td>20171015</td>\n",
              "      <td>NaN</td>\n",
              "    </tr>\n",
              "    <tr>\n",
              "      <th>3738</th>\n",
              "      <td>2016</td>\n",
              "      <td>Wyoming</td>\n",
              "      <td>WY</td>\n",
              "      <td>56</td>\n",
              "      <td>83</td>\n",
              "      <td>68</td>\n",
              "      <td>US President</td>\n",
              "      <td>Castle, Darrell L.</td>\n",
              "      <td>constitution party</td>\n",
              "      <td>False</td>\n",
              "      <td>2042</td>\n",
              "      <td>258788</td>\n",
              "      <td>20171015</td>\n",
              "      <td>NaN</td>\n",
              "    </tr>\n",
              "    <tr>\n",
              "      <th>3739</th>\n",
              "      <td>2016</td>\n",
              "      <td>Wyoming</td>\n",
              "      <td>WY</td>\n",
              "      <td>56</td>\n",
              "      <td>83</td>\n",
              "      <td>68</td>\n",
              "      <td>US President</td>\n",
              "      <td>Over Vote</td>\n",
              "      <td>NaN</td>\n",
              "      <td>False</td>\n",
              "      <td>278</td>\n",
              "      <td>258788</td>\n",
              "      <td>20171015</td>\n",
              "      <td>NaN</td>\n",
              "    </tr>\n",
              "  </tbody>\n",
              "</table>\n",
              "<p>3740 rows × 14 columns</p>\n",
              "</div>"
            ],
            "text/plain": [
              "      year    state state_po  ...  totalvotes   version  notes\n",
              "0     1976  Alabama       AL  ...     1182850  20171015    NaN\n",
              "1     1976  Alabama       AL  ...     1182850  20171015    NaN\n",
              "2     1976  Alabama       AL  ...     1182850  20171015    NaN\n",
              "3     1976  Alabama       AL  ...     1182850  20171015    NaN\n",
              "4     1976  Alabama       AL  ...     1182850  20171015    NaN\n",
              "...    ...      ...      ...  ...         ...       ...    ...\n",
              "3735  2016  Wyoming       WY  ...      258788  20171015    NaN\n",
              "3736  2016  Wyoming       WY  ...      258788  20171015    NaN\n",
              "3737  2016  Wyoming       WY  ...      258788  20171015    NaN\n",
              "3738  2016  Wyoming       WY  ...      258788  20171015    NaN\n",
              "3739  2016  Wyoming       WY  ...      258788  20171015    NaN\n",
              "\n",
              "[3740 rows x 14 columns]"
            ]
          },
          "metadata": {
            "tags": []
          },
          "execution_count": 378
        }
      ]
    },
    {
      "cell_type": "code",
      "metadata": {
        "colab": {
          "base_uri": "https://localhost:8080/",
          "height": 407
        },
        "id": "p8ONJvyRDINQ",
        "outputId": "f1e4e79f-c2c4-41fb-9541-c514a4fe2ef2"
      },
      "source": [
        "present"
      ],
      "execution_count": 379,
      "outputs": [
        {
          "output_type": "execute_result",
          "data": {
            "text/html": [
              "<div>\n",
              "<style scoped>\n",
              "    .dataframe tbody tr th:only-of-type {\n",
              "        vertical-align: middle;\n",
              "    }\n",
              "\n",
              "    .dataframe tbody tr th {\n",
              "        vertical-align: top;\n",
              "    }\n",
              "\n",
              "    .dataframe thead th {\n",
              "        text-align: right;\n",
              "    }\n",
              "</style>\n",
              "<table border=\"1\" class=\"dataframe\">\n",
              "  <thead>\n",
              "    <tr style=\"text-align: right;\">\n",
              "      <th></th>\n",
              "      <th>state</th>\n",
              "      <th>county</th>\n",
              "      <th>candidate</th>\n",
              "      <th>party</th>\n",
              "      <th>total_votes</th>\n",
              "      <th>won</th>\n",
              "    </tr>\n",
              "  </thead>\n",
              "  <tbody>\n",
              "    <tr>\n",
              "      <th>0</th>\n",
              "      <td>Delaware</td>\n",
              "      <td>Kent County</td>\n",
              "      <td>Joe Biden</td>\n",
              "      <td>DEM</td>\n",
              "      <td>44552</td>\n",
              "      <td>True</td>\n",
              "    </tr>\n",
              "    <tr>\n",
              "      <th>1</th>\n",
              "      <td>Delaware</td>\n",
              "      <td>Kent County</td>\n",
              "      <td>Donald Trump</td>\n",
              "      <td>REP</td>\n",
              "      <td>41009</td>\n",
              "      <td>False</td>\n",
              "    </tr>\n",
              "    <tr>\n",
              "      <th>2</th>\n",
              "      <td>Delaware</td>\n",
              "      <td>Kent County</td>\n",
              "      <td>Jo Jorgensen</td>\n",
              "      <td>LIB</td>\n",
              "      <td>1044</td>\n",
              "      <td>False</td>\n",
              "    </tr>\n",
              "    <tr>\n",
              "      <th>3</th>\n",
              "      <td>Delaware</td>\n",
              "      <td>Kent County</td>\n",
              "      <td>Howie Hawkins</td>\n",
              "      <td>GRN</td>\n",
              "      <td>420</td>\n",
              "      <td>False</td>\n",
              "    </tr>\n",
              "    <tr>\n",
              "      <th>4</th>\n",
              "      <td>Delaware</td>\n",
              "      <td>New Castle County</td>\n",
              "      <td>Joe Biden</td>\n",
              "      <td>DEM</td>\n",
              "      <td>195034</td>\n",
              "      <td>True</td>\n",
              "    </tr>\n",
              "    <tr>\n",
              "      <th>...</th>\n",
              "      <td>...</td>\n",
              "      <td>...</td>\n",
              "      <td>...</td>\n",
              "      <td>...</td>\n",
              "      <td>...</td>\n",
              "      <td>...</td>\n",
              "    </tr>\n",
              "    <tr>\n",
              "      <th>31663</th>\n",
              "      <td>Arizona</td>\n",
              "      <td>Maricopa County</td>\n",
              "      <td>Jo Jorgensen</td>\n",
              "      <td>LIB</td>\n",
              "      <td>31705</td>\n",
              "      <td>False</td>\n",
              "    </tr>\n",
              "    <tr>\n",
              "      <th>31664</th>\n",
              "      <td>Arizona</td>\n",
              "      <td>Maricopa County</td>\n",
              "      <td>Write-ins</td>\n",
              "      <td>WRI</td>\n",
              "      <td>0</td>\n",
              "      <td>False</td>\n",
              "    </tr>\n",
              "    <tr>\n",
              "      <th>31665</th>\n",
              "      <td>Arizona</td>\n",
              "      <td>Mohave County</td>\n",
              "      <td>Donald Trump</td>\n",
              "      <td>REP</td>\n",
              "      <td>78535</td>\n",
              "      <td>True</td>\n",
              "    </tr>\n",
              "    <tr>\n",
              "      <th>31666</th>\n",
              "      <td>Arizona</td>\n",
              "      <td>Mohave County</td>\n",
              "      <td>Joe Biden</td>\n",
              "      <td>DEM</td>\n",
              "      <td>24831</td>\n",
              "      <td>False</td>\n",
              "    </tr>\n",
              "    <tr>\n",
              "      <th>31667</th>\n",
              "      <td>Arizona</td>\n",
              "      <td>Mohave County</td>\n",
              "      <td>Jo Jorgensen</td>\n",
              "      <td>LIB</td>\n",
              "      <td>1302</td>\n",
              "      <td>False</td>\n",
              "    </tr>\n",
              "  </tbody>\n",
              "</table>\n",
              "<p>31668 rows × 6 columns</p>\n",
              "</div>"
            ],
            "text/plain": [
              "          state             county      candidate party  total_votes    won\n",
              "0      Delaware        Kent County      Joe Biden   DEM        44552   True\n",
              "1      Delaware        Kent County   Donald Trump   REP        41009  False\n",
              "2      Delaware        Kent County   Jo Jorgensen   LIB         1044  False\n",
              "3      Delaware        Kent County  Howie Hawkins   GRN          420  False\n",
              "4      Delaware  New Castle County      Joe Biden   DEM       195034   True\n",
              "...         ...                ...            ...   ...          ...    ...\n",
              "31663   Arizona    Maricopa County   Jo Jorgensen   LIB        31705  False\n",
              "31664   Arizona    Maricopa County      Write-ins   WRI            0  False\n",
              "31665   Arizona      Mohave County   Donald Trump   REP        78535   True\n",
              "31666   Arizona      Mohave County      Joe Biden   DEM        24831  False\n",
              "31667   Arizona      Mohave County   Jo Jorgensen   LIB         1302  False\n",
              "\n",
              "[31668 rows x 6 columns]"
            ]
          },
          "metadata": {
            "tags": []
          },
          "execution_count": 379
        }
      ]
    },
    {
      "cell_type": "markdown",
      "metadata": {
        "id": "ycvSstlnDiLW"
      },
      "source": [
        "Create new column in present"
      ]
    },
    {
      "cell_type": "code",
      "metadata": {
        "colab": {
          "base_uri": "https://localhost:8080/",
          "height": 407
        },
        "id": "xGV3EbF5Dmn5",
        "outputId": "f12cb1de-3564-4ca9-f87a-bcb34744f370"
      },
      "source": [
        "present['year'] = 2020\n",
        "present"
      ],
      "execution_count": 380,
      "outputs": [
        {
          "output_type": "execute_result",
          "data": {
            "text/html": [
              "<div>\n",
              "<style scoped>\n",
              "    .dataframe tbody tr th:only-of-type {\n",
              "        vertical-align: middle;\n",
              "    }\n",
              "\n",
              "    .dataframe tbody tr th {\n",
              "        vertical-align: top;\n",
              "    }\n",
              "\n",
              "    .dataframe thead th {\n",
              "        text-align: right;\n",
              "    }\n",
              "</style>\n",
              "<table border=\"1\" class=\"dataframe\">\n",
              "  <thead>\n",
              "    <tr style=\"text-align: right;\">\n",
              "      <th></th>\n",
              "      <th>state</th>\n",
              "      <th>county</th>\n",
              "      <th>candidate</th>\n",
              "      <th>party</th>\n",
              "      <th>total_votes</th>\n",
              "      <th>won</th>\n",
              "      <th>year</th>\n",
              "    </tr>\n",
              "  </thead>\n",
              "  <tbody>\n",
              "    <tr>\n",
              "      <th>0</th>\n",
              "      <td>Delaware</td>\n",
              "      <td>Kent County</td>\n",
              "      <td>Joe Biden</td>\n",
              "      <td>DEM</td>\n",
              "      <td>44552</td>\n",
              "      <td>True</td>\n",
              "      <td>2020</td>\n",
              "    </tr>\n",
              "    <tr>\n",
              "      <th>1</th>\n",
              "      <td>Delaware</td>\n",
              "      <td>Kent County</td>\n",
              "      <td>Donald Trump</td>\n",
              "      <td>REP</td>\n",
              "      <td>41009</td>\n",
              "      <td>False</td>\n",
              "      <td>2020</td>\n",
              "    </tr>\n",
              "    <tr>\n",
              "      <th>2</th>\n",
              "      <td>Delaware</td>\n",
              "      <td>Kent County</td>\n",
              "      <td>Jo Jorgensen</td>\n",
              "      <td>LIB</td>\n",
              "      <td>1044</td>\n",
              "      <td>False</td>\n",
              "      <td>2020</td>\n",
              "    </tr>\n",
              "    <tr>\n",
              "      <th>3</th>\n",
              "      <td>Delaware</td>\n",
              "      <td>Kent County</td>\n",
              "      <td>Howie Hawkins</td>\n",
              "      <td>GRN</td>\n",
              "      <td>420</td>\n",
              "      <td>False</td>\n",
              "      <td>2020</td>\n",
              "    </tr>\n",
              "    <tr>\n",
              "      <th>4</th>\n",
              "      <td>Delaware</td>\n",
              "      <td>New Castle County</td>\n",
              "      <td>Joe Biden</td>\n",
              "      <td>DEM</td>\n",
              "      <td>195034</td>\n",
              "      <td>True</td>\n",
              "      <td>2020</td>\n",
              "    </tr>\n",
              "    <tr>\n",
              "      <th>...</th>\n",
              "      <td>...</td>\n",
              "      <td>...</td>\n",
              "      <td>...</td>\n",
              "      <td>...</td>\n",
              "      <td>...</td>\n",
              "      <td>...</td>\n",
              "      <td>...</td>\n",
              "    </tr>\n",
              "    <tr>\n",
              "      <th>31663</th>\n",
              "      <td>Arizona</td>\n",
              "      <td>Maricopa County</td>\n",
              "      <td>Jo Jorgensen</td>\n",
              "      <td>LIB</td>\n",
              "      <td>31705</td>\n",
              "      <td>False</td>\n",
              "      <td>2020</td>\n",
              "    </tr>\n",
              "    <tr>\n",
              "      <th>31664</th>\n",
              "      <td>Arizona</td>\n",
              "      <td>Maricopa County</td>\n",
              "      <td>Write-ins</td>\n",
              "      <td>WRI</td>\n",
              "      <td>0</td>\n",
              "      <td>False</td>\n",
              "      <td>2020</td>\n",
              "    </tr>\n",
              "    <tr>\n",
              "      <th>31665</th>\n",
              "      <td>Arizona</td>\n",
              "      <td>Mohave County</td>\n",
              "      <td>Donald Trump</td>\n",
              "      <td>REP</td>\n",
              "      <td>78535</td>\n",
              "      <td>True</td>\n",
              "      <td>2020</td>\n",
              "    </tr>\n",
              "    <tr>\n",
              "      <th>31666</th>\n",
              "      <td>Arizona</td>\n",
              "      <td>Mohave County</td>\n",
              "      <td>Joe Biden</td>\n",
              "      <td>DEM</td>\n",
              "      <td>24831</td>\n",
              "      <td>False</td>\n",
              "      <td>2020</td>\n",
              "    </tr>\n",
              "    <tr>\n",
              "      <th>31667</th>\n",
              "      <td>Arizona</td>\n",
              "      <td>Mohave County</td>\n",
              "      <td>Jo Jorgensen</td>\n",
              "      <td>LIB</td>\n",
              "      <td>1302</td>\n",
              "      <td>False</td>\n",
              "      <td>2020</td>\n",
              "    </tr>\n",
              "  </tbody>\n",
              "</table>\n",
              "<p>31668 rows × 7 columns</p>\n",
              "</div>"
            ],
            "text/plain": [
              "          state             county      candidate  ... total_votes    won  year\n",
              "0      Delaware        Kent County      Joe Biden  ...       44552   True  2020\n",
              "1      Delaware        Kent County   Donald Trump  ...       41009  False  2020\n",
              "2      Delaware        Kent County   Jo Jorgensen  ...        1044  False  2020\n",
              "3      Delaware        Kent County  Howie Hawkins  ...         420  False  2020\n",
              "4      Delaware  New Castle County      Joe Biden  ...      195034   True  2020\n",
              "...         ...                ...            ...  ...         ...    ...   ...\n",
              "31663   Arizona    Maricopa County   Jo Jorgensen  ...       31705  False  2020\n",
              "31664   Arizona    Maricopa County      Write-ins  ...           0  False  2020\n",
              "31665   Arizona      Mohave County   Donald Trump  ...       78535   True  2020\n",
              "31666   Arizona      Mohave County      Joe Biden  ...       24831  False  2020\n",
              "31667   Arizona      Mohave County   Jo Jorgensen  ...        1302  False  2020\n",
              "\n",
              "[31668 rows x 7 columns]"
            ]
          },
          "metadata": {
            "tags": []
          },
          "execution_count": 380
        }
      ]
    },
    {
      "cell_type": "markdown",
      "metadata": {
        "id": "cDYlywLVFZij"
      },
      "source": [
        "Rename column in present"
      ]
    },
    {
      "cell_type": "code",
      "metadata": {
        "colab": {
          "base_uri": "https://localhost:8080/",
          "height": 407
        },
        "id": "IUKxV8aiFcbN",
        "outputId": "d0ece5e5-6dfd-48e5-948e-178ee193ba0d"
      },
      "source": [
        "present = present.rename({'total_votes': 'candidatevotes'}, axis=1)\n",
        "present"
      ],
      "execution_count": 381,
      "outputs": [
        {
          "output_type": "execute_result",
          "data": {
            "text/html": [
              "<div>\n",
              "<style scoped>\n",
              "    .dataframe tbody tr th:only-of-type {\n",
              "        vertical-align: middle;\n",
              "    }\n",
              "\n",
              "    .dataframe tbody tr th {\n",
              "        vertical-align: top;\n",
              "    }\n",
              "\n",
              "    .dataframe thead th {\n",
              "        text-align: right;\n",
              "    }\n",
              "</style>\n",
              "<table border=\"1\" class=\"dataframe\">\n",
              "  <thead>\n",
              "    <tr style=\"text-align: right;\">\n",
              "      <th></th>\n",
              "      <th>state</th>\n",
              "      <th>county</th>\n",
              "      <th>candidate</th>\n",
              "      <th>party</th>\n",
              "      <th>candidatevotes</th>\n",
              "      <th>won</th>\n",
              "      <th>year</th>\n",
              "    </tr>\n",
              "  </thead>\n",
              "  <tbody>\n",
              "    <tr>\n",
              "      <th>0</th>\n",
              "      <td>Delaware</td>\n",
              "      <td>Kent County</td>\n",
              "      <td>Joe Biden</td>\n",
              "      <td>DEM</td>\n",
              "      <td>44552</td>\n",
              "      <td>True</td>\n",
              "      <td>2020</td>\n",
              "    </tr>\n",
              "    <tr>\n",
              "      <th>1</th>\n",
              "      <td>Delaware</td>\n",
              "      <td>Kent County</td>\n",
              "      <td>Donald Trump</td>\n",
              "      <td>REP</td>\n",
              "      <td>41009</td>\n",
              "      <td>False</td>\n",
              "      <td>2020</td>\n",
              "    </tr>\n",
              "    <tr>\n",
              "      <th>2</th>\n",
              "      <td>Delaware</td>\n",
              "      <td>Kent County</td>\n",
              "      <td>Jo Jorgensen</td>\n",
              "      <td>LIB</td>\n",
              "      <td>1044</td>\n",
              "      <td>False</td>\n",
              "      <td>2020</td>\n",
              "    </tr>\n",
              "    <tr>\n",
              "      <th>3</th>\n",
              "      <td>Delaware</td>\n",
              "      <td>Kent County</td>\n",
              "      <td>Howie Hawkins</td>\n",
              "      <td>GRN</td>\n",
              "      <td>420</td>\n",
              "      <td>False</td>\n",
              "      <td>2020</td>\n",
              "    </tr>\n",
              "    <tr>\n",
              "      <th>4</th>\n",
              "      <td>Delaware</td>\n",
              "      <td>New Castle County</td>\n",
              "      <td>Joe Biden</td>\n",
              "      <td>DEM</td>\n",
              "      <td>195034</td>\n",
              "      <td>True</td>\n",
              "      <td>2020</td>\n",
              "    </tr>\n",
              "    <tr>\n",
              "      <th>...</th>\n",
              "      <td>...</td>\n",
              "      <td>...</td>\n",
              "      <td>...</td>\n",
              "      <td>...</td>\n",
              "      <td>...</td>\n",
              "      <td>...</td>\n",
              "      <td>...</td>\n",
              "    </tr>\n",
              "    <tr>\n",
              "      <th>31663</th>\n",
              "      <td>Arizona</td>\n",
              "      <td>Maricopa County</td>\n",
              "      <td>Jo Jorgensen</td>\n",
              "      <td>LIB</td>\n",
              "      <td>31705</td>\n",
              "      <td>False</td>\n",
              "      <td>2020</td>\n",
              "    </tr>\n",
              "    <tr>\n",
              "      <th>31664</th>\n",
              "      <td>Arizona</td>\n",
              "      <td>Maricopa County</td>\n",
              "      <td>Write-ins</td>\n",
              "      <td>WRI</td>\n",
              "      <td>0</td>\n",
              "      <td>False</td>\n",
              "      <td>2020</td>\n",
              "    </tr>\n",
              "    <tr>\n",
              "      <th>31665</th>\n",
              "      <td>Arizona</td>\n",
              "      <td>Mohave County</td>\n",
              "      <td>Donald Trump</td>\n",
              "      <td>REP</td>\n",
              "      <td>78535</td>\n",
              "      <td>True</td>\n",
              "      <td>2020</td>\n",
              "    </tr>\n",
              "    <tr>\n",
              "      <th>31666</th>\n",
              "      <td>Arizona</td>\n",
              "      <td>Mohave County</td>\n",
              "      <td>Joe Biden</td>\n",
              "      <td>DEM</td>\n",
              "      <td>24831</td>\n",
              "      <td>False</td>\n",
              "      <td>2020</td>\n",
              "    </tr>\n",
              "    <tr>\n",
              "      <th>31667</th>\n",
              "      <td>Arizona</td>\n",
              "      <td>Mohave County</td>\n",
              "      <td>Jo Jorgensen</td>\n",
              "      <td>LIB</td>\n",
              "      <td>1302</td>\n",
              "      <td>False</td>\n",
              "      <td>2020</td>\n",
              "    </tr>\n",
              "  </tbody>\n",
              "</table>\n",
              "<p>31668 rows × 7 columns</p>\n",
              "</div>"
            ],
            "text/plain": [
              "          state             county      candidate  ... candidatevotes    won  year\n",
              "0      Delaware        Kent County      Joe Biden  ...          44552   True  2020\n",
              "1      Delaware        Kent County   Donald Trump  ...          41009  False  2020\n",
              "2      Delaware        Kent County   Jo Jorgensen  ...           1044  False  2020\n",
              "3      Delaware        Kent County  Howie Hawkins  ...            420  False  2020\n",
              "4      Delaware  New Castle County      Joe Biden  ...         195034   True  2020\n",
              "...         ...                ...            ...  ...            ...    ...   ...\n",
              "31663   Arizona    Maricopa County   Jo Jorgensen  ...          31705  False  2020\n",
              "31664   Arizona    Maricopa County      Write-ins  ...              0  False  2020\n",
              "31665   Arizona      Mohave County   Donald Trump  ...          78535   True  2020\n",
              "31666   Arizona      Mohave County      Joe Biden  ...          24831  False  2020\n",
              "31667   Arizona      Mohave County   Jo Jorgensen  ...           1302  False  2020\n",
              "\n",
              "[31668 rows x 7 columns]"
            ]
          },
          "metadata": {
            "tags": []
          },
          "execution_count": 381
        }
      ]
    },
    {
      "cell_type": "markdown",
      "metadata": {
        "id": "iQXfgzNiGGLq"
      },
      "source": [
        "Pivot table"
      ]
    },
    {
      "cell_type": "code",
      "metadata": {
        "colab": {
          "base_uri": "https://localhost:8080/",
          "height": 407
        },
        "id": "4rSnI2z_GIk_",
        "outputId": "361e87b3-219e-4800-8ac9-22b2ec160c88"
      },
      "source": [
        "test = present.groupby(['state','candidate','party', 'year'])['candidatevotes'].sum().reset_index()\n",
        "test"
      ],
      "execution_count": 382,
      "outputs": [
        {
          "output_type": "execute_result",
          "data": {
            "text/html": [
              "<div>\n",
              "<style scoped>\n",
              "    .dataframe tbody tr th:only-of-type {\n",
              "        vertical-align: middle;\n",
              "    }\n",
              "\n",
              "    .dataframe tbody tr th {\n",
              "        vertical-align: top;\n",
              "    }\n",
              "\n",
              "    .dataframe thead th {\n",
              "        text-align: right;\n",
              "    }\n",
              "</style>\n",
              "<table border=\"1\" class=\"dataframe\">\n",
              "  <thead>\n",
              "    <tr style=\"text-align: right;\">\n",
              "      <th></th>\n",
              "      <th>state</th>\n",
              "      <th>candidate</th>\n",
              "      <th>party</th>\n",
              "      <th>year</th>\n",
              "      <th>candidatevotes</th>\n",
              "    </tr>\n",
              "  </thead>\n",
              "  <tbody>\n",
              "    <tr>\n",
              "      <th>0</th>\n",
              "      <td>Alabama</td>\n",
              "      <td>Write-ins</td>\n",
              "      <td>WRI</td>\n",
              "      <td>2020</td>\n",
              "      <td>7312</td>\n",
              "    </tr>\n",
              "    <tr>\n",
              "      <th>1</th>\n",
              "      <td>Alabama</td>\n",
              "      <td>Donald Trump</td>\n",
              "      <td>REP</td>\n",
              "      <td>2020</td>\n",
              "      <td>1441170</td>\n",
              "    </tr>\n",
              "    <tr>\n",
              "      <th>2</th>\n",
              "      <td>Alabama</td>\n",
              "      <td>Jo Jorgensen</td>\n",
              "      <td>LIB</td>\n",
              "      <td>2020</td>\n",
              "      <td>25176</td>\n",
              "    </tr>\n",
              "    <tr>\n",
              "      <th>3</th>\n",
              "      <td>Alabama</td>\n",
              "      <td>Joe Biden</td>\n",
              "      <td>DEM</td>\n",
              "      <td>2020</td>\n",
              "      <td>849624</td>\n",
              "    </tr>\n",
              "    <tr>\n",
              "      <th>4</th>\n",
              "      <td>Alaska</td>\n",
              "      <td>Write-ins</td>\n",
              "      <td>WRI</td>\n",
              "      <td>2020</td>\n",
              "      <td>76</td>\n",
              "    </tr>\n",
              "    <tr>\n",
              "      <th>...</th>\n",
              "      <td>...</td>\n",
              "      <td>...</td>\n",
              "      <td>...</td>\n",
              "      <td>...</td>\n",
              "      <td>...</td>\n",
              "    </tr>\n",
              "    <tr>\n",
              "      <th>346</th>\n",
              "      <td>Wyoming</td>\n",
              "      <td>Write-ins</td>\n",
              "      <td>WRI</td>\n",
              "      <td>2020</td>\n",
              "      <td>1739</td>\n",
              "    </tr>\n",
              "    <tr>\n",
              "      <th>347</th>\n",
              "      <td>Wyoming</td>\n",
              "      <td>Brock Pierce</td>\n",
              "      <td>IND</td>\n",
              "      <td>2020</td>\n",
              "      <td>2208</td>\n",
              "    </tr>\n",
              "    <tr>\n",
              "      <th>348</th>\n",
              "      <td>Wyoming</td>\n",
              "      <td>Donald Trump</td>\n",
              "      <td>REP</td>\n",
              "      <td>2020</td>\n",
              "      <td>193559</td>\n",
              "    </tr>\n",
              "    <tr>\n",
              "      <th>349</th>\n",
              "      <td>Wyoming</td>\n",
              "      <td>Jo Jorgensen</td>\n",
              "      <td>LIB</td>\n",
              "      <td>2020</td>\n",
              "      <td>5768</td>\n",
              "    </tr>\n",
              "    <tr>\n",
              "      <th>350</th>\n",
              "      <td>Wyoming</td>\n",
              "      <td>Joe Biden</td>\n",
              "      <td>DEM</td>\n",
              "      <td>2020</td>\n",
              "      <td>73491</td>\n",
              "    </tr>\n",
              "  </tbody>\n",
              "</table>\n",
              "<p>351 rows × 5 columns</p>\n",
              "</div>"
            ],
            "text/plain": [
              "       state     candidate party  year  candidatevotes\n",
              "0    Alabama     Write-ins   WRI  2020            7312\n",
              "1    Alabama  Donald Trump   REP  2020         1441170\n",
              "2    Alabama  Jo Jorgensen   LIB  2020           25176\n",
              "3    Alabama     Joe Biden   DEM  2020          849624\n",
              "4     Alaska     Write-ins   WRI  2020              76\n",
              "..       ...           ...   ...   ...             ...\n",
              "346  Wyoming     Write-ins   WRI  2020            1739\n",
              "347  Wyoming  Brock Pierce   IND  2020            2208\n",
              "348  Wyoming  Donald Trump   REP  2020          193559\n",
              "349  Wyoming  Jo Jorgensen   LIB  2020            5768\n",
              "350  Wyoming     Joe Biden   DEM  2020           73491\n",
              "\n",
              "[351 rows x 5 columns]"
            ]
          },
          "metadata": {
            "tags": []
          },
          "execution_count": 382
        }
      ]
    },
    {
      "cell_type": "markdown",
      "metadata": {
        "id": "p4UneWbCHtrf"
      },
      "source": [
        "Create train dataframe"
      ]
    },
    {
      "cell_type": "code",
      "metadata": {
        "colab": {
          "base_uri": "https://localhost:8080/",
          "height": 407
        },
        "id": "za-dUfZZHwpr",
        "outputId": "2ffcd298-5edf-4033-cc34-5ebd3f80fa75"
      },
      "source": [
        "train = past[['state', 'candidate', 'party', 'year','candidatevotes']]\n",
        "train"
      ],
      "execution_count": 383,
      "outputs": [
        {
          "output_type": "execute_result",
          "data": {
            "text/html": [
              "<div>\n",
              "<style scoped>\n",
              "    .dataframe tbody tr th:only-of-type {\n",
              "        vertical-align: middle;\n",
              "    }\n",
              "\n",
              "    .dataframe tbody tr th {\n",
              "        vertical-align: top;\n",
              "    }\n",
              "\n",
              "    .dataframe thead th {\n",
              "        text-align: right;\n",
              "    }\n",
              "</style>\n",
              "<table border=\"1\" class=\"dataframe\">\n",
              "  <thead>\n",
              "    <tr style=\"text-align: right;\">\n",
              "      <th></th>\n",
              "      <th>state</th>\n",
              "      <th>candidate</th>\n",
              "      <th>party</th>\n",
              "      <th>year</th>\n",
              "      <th>candidatevotes</th>\n",
              "    </tr>\n",
              "  </thead>\n",
              "  <tbody>\n",
              "    <tr>\n",
              "      <th>0</th>\n",
              "      <td>Alabama</td>\n",
              "      <td>Carter, Jimmy</td>\n",
              "      <td>democrat</td>\n",
              "      <td>1976</td>\n",
              "      <td>659170</td>\n",
              "    </tr>\n",
              "    <tr>\n",
              "      <th>1</th>\n",
              "      <td>Alabama</td>\n",
              "      <td>Ford, Gerald</td>\n",
              "      <td>republican</td>\n",
              "      <td>1976</td>\n",
              "      <td>504070</td>\n",
              "    </tr>\n",
              "    <tr>\n",
              "      <th>2</th>\n",
              "      <td>Alabama</td>\n",
              "      <td>Maddox, Lester</td>\n",
              "      <td>american independent party</td>\n",
              "      <td>1976</td>\n",
              "      <td>9198</td>\n",
              "    </tr>\n",
              "    <tr>\n",
              "      <th>3</th>\n",
              "      <td>Alabama</td>\n",
              "      <td>Bubar, Benjamin \"\"Ben\"\"</td>\n",
              "      <td>prohibition</td>\n",
              "      <td>1976</td>\n",
              "      <td>6669</td>\n",
              "    </tr>\n",
              "    <tr>\n",
              "      <th>4</th>\n",
              "      <td>Alabama</td>\n",
              "      <td>Hall, Gus</td>\n",
              "      <td>communist party use</td>\n",
              "      <td>1976</td>\n",
              "      <td>1954</td>\n",
              "    </tr>\n",
              "    <tr>\n",
              "      <th>...</th>\n",
              "      <td>...</td>\n",
              "      <td>...</td>\n",
              "      <td>...</td>\n",
              "      <td>...</td>\n",
              "      <td>...</td>\n",
              "    </tr>\n",
              "    <tr>\n",
              "      <th>3735</th>\n",
              "      <td>Wyoming</td>\n",
              "      <td>NaN</td>\n",
              "      <td>NaN</td>\n",
              "      <td>2016</td>\n",
              "      <td>6904</td>\n",
              "    </tr>\n",
              "    <tr>\n",
              "      <th>3736</th>\n",
              "      <td>Wyoming</td>\n",
              "      <td>NaN</td>\n",
              "      <td>independent</td>\n",
              "      <td>2016</td>\n",
              "      <td>3224</td>\n",
              "    </tr>\n",
              "    <tr>\n",
              "      <th>3737</th>\n",
              "      <td>Wyoming</td>\n",
              "      <td>Blank Vote</td>\n",
              "      <td>NaN</td>\n",
              "      <td>2016</td>\n",
              "      <td>2661</td>\n",
              "    </tr>\n",
              "    <tr>\n",
              "      <th>3738</th>\n",
              "      <td>Wyoming</td>\n",
              "      <td>Castle, Darrell L.</td>\n",
              "      <td>constitution party</td>\n",
              "      <td>2016</td>\n",
              "      <td>2042</td>\n",
              "    </tr>\n",
              "    <tr>\n",
              "      <th>3739</th>\n",
              "      <td>Wyoming</td>\n",
              "      <td>Over Vote</td>\n",
              "      <td>NaN</td>\n",
              "      <td>2016</td>\n",
              "      <td>278</td>\n",
              "    </tr>\n",
              "  </tbody>\n",
              "</table>\n",
              "<p>3740 rows × 5 columns</p>\n",
              "</div>"
            ],
            "text/plain": [
              "        state                candidate  ...  year  candidatevotes\n",
              "0     Alabama            Carter, Jimmy  ...  1976          659170\n",
              "1     Alabama             Ford, Gerald  ...  1976          504070\n",
              "2     Alabama           Maddox, Lester  ...  1976            9198\n",
              "3     Alabama  Bubar, Benjamin \"\"Ben\"\"  ...  1976            6669\n",
              "4     Alabama                Hall, Gus  ...  1976            1954\n",
              "...       ...                      ...  ...   ...             ...\n",
              "3735  Wyoming                      NaN  ...  2016            6904\n",
              "3736  Wyoming                      NaN  ...  2016            3224\n",
              "3737  Wyoming               Blank Vote  ...  2016            2661\n",
              "3738  Wyoming       Castle, Darrell L.  ...  2016            2042\n",
              "3739  Wyoming                Over Vote  ...  2016             278\n",
              "\n",
              "[3740 rows x 5 columns]"
            ]
          },
          "metadata": {
            "tags": []
          },
          "execution_count": 383
        }
      ]
    },
    {
      "cell_type": "markdown",
      "metadata": {
        "id": "4c-RuE3MKbPL"
      },
      "source": [
        "Check for null values"
      ]
    },
    {
      "cell_type": "code",
      "metadata": {
        "colab": {
          "base_uri": "https://localhost:8080/"
        },
        "id": "WdwxwL76Kdv5",
        "outputId": "6f51c3d0-9377-4867-ba57-df27816d5203"
      },
      "source": [
        "train.isnull().sum()"
      ],
      "execution_count": 384,
      "outputs": [
        {
          "output_type": "execute_result",
          "data": {
            "text/plain": [
              "state               0\n",
              "candidate         266\n",
              "party             336\n",
              "year                0\n",
              "candidatevotes      0\n",
              "dtype: int64"
            ]
          },
          "metadata": {
            "tags": []
          },
          "execution_count": 384
        }
      ]
    },
    {
      "cell_type": "code",
      "metadata": {
        "colab": {
          "base_uri": "https://localhost:8080/"
        },
        "id": "qbo36kTeKn9z",
        "outputId": "7d5e1418-6bcd-4e35-b3df-898b22372e15"
      },
      "source": [
        "test.isnull().sum()"
      ],
      "execution_count": 385,
      "outputs": [
        {
          "output_type": "execute_result",
          "data": {
            "text/plain": [
              "state             0\n",
              "candidate         0\n",
              "party             0\n",
              "year              0\n",
              "candidatevotes    0\n",
              "dtype: int64"
            ]
          },
          "metadata": {
            "tags": []
          },
          "execution_count": 385
        }
      ]
    },
    {
      "cell_type": "markdown",
      "metadata": {
        "id": "G1RpaYFHPEG6"
      },
      "source": [
        "Create dictionary"
      ]
    },
    {
      "cell_type": "code",
      "metadata": {
        "colab": {
          "base_uri": "https://localhost:8080/"
        },
        "id": "3R15nNrIPGlH",
        "outputId": "e7480b34-15b6-404c-d1c7-e6decc233074"
      },
      "source": [
        "party1 = {'democrat':1, 'DEM':1, 'republican':2, 'REP':2}\n",
        "train.party = train.party.map(party1)\n",
        "test.party = test.party.map(party1)"
      ],
      "execution_count": 386,
      "outputs": [
        {
          "output_type": "stream",
          "text": [
            "/usr/local/lib/python3.6/dist-packages/pandas/core/generic.py:5168: SettingWithCopyWarning: \n",
            "A value is trying to be set on a copy of a slice from a DataFrame.\n",
            "Try using .loc[row_indexer,col_indexer] = value instead\n",
            "\n",
            "See the caveats in the documentation: https://pandas.pydata.org/pandas-docs/stable/user_guide/indexing.html#returning-a-view-versus-a-copy\n",
            "  self[name] = value\n"
          ],
          "name": "stderr"
        }
      ]
    },
    {
      "cell_type": "code",
      "metadata": {
        "colab": {
          "base_uri": "https://localhost:8080/"
        },
        "id": "c4paJBQhRAyu",
        "outputId": "814cb91f-2e88-406f-889e-ad46b276f4f7"
      },
      "source": [
        "train['party'] = train['party'].replace(np.nan, 3)\n",
        "test['party'] = test['party'].replace(np.nan, 3)"
      ],
      "execution_count": 387,
      "outputs": [
        {
          "output_type": "stream",
          "text": [
            "/usr/local/lib/python3.6/dist-packages/ipykernel_launcher.py:1: SettingWithCopyWarning: \n",
            "A value is trying to be set on a copy of a slice from a DataFrame.\n",
            "Try using .loc[row_indexer,col_indexer] = value instead\n",
            "\n",
            "See the caveats in the documentation: https://pandas.pydata.org/pandas-docs/stable/user_guide/indexing.html#returning-a-view-versus-a-copy\n",
            "  \"\"\"Entry point for launching an IPython kernel.\n"
          ],
          "name": "stderr"
        }
      ]
    },
    {
      "cell_type": "code",
      "metadata": {
        "colab": {
          "base_uri": "https://localhost:8080/"
        },
        "id": "tKMrn7fZRfAG",
        "outputId": "55d0560c-1011-48d0-ac47-c3111c3619f6"
      },
      "source": [
        "train['candidate'] = train['candidate'].replace(np.nan, 'Blank Vote')\n",
        "test['candidate'] = test['candidate'].replace(np.nan, 'Blank Vote')"
      ],
      "execution_count": 388,
      "outputs": [
        {
          "output_type": "stream",
          "text": [
            "/usr/local/lib/python3.6/dist-packages/ipykernel_launcher.py:1: SettingWithCopyWarning: \n",
            "A value is trying to be set on a copy of a slice from a DataFrame.\n",
            "Try using .loc[row_indexer,col_indexer] = value instead\n",
            "\n",
            "See the caveats in the documentation: https://pandas.pydata.org/pandas-docs/stable/user_guide/indexing.html#returning-a-view-versus-a-copy\n",
            "  \"\"\"Entry point for launching an IPython kernel.\n"
          ],
          "name": "stderr"
        }
      ]
    },
    {
      "cell_type": "code",
      "metadata": {
        "colab": {
          "base_uri": "https://localhost:8080/",
          "height": 407
        },
        "id": "mdmjYNvGQQig",
        "outputId": "37d12d48-48f2-45a8-f7b0-46bf4c502b5f"
      },
      "source": [
        "train"
      ],
      "execution_count": 389,
      "outputs": [
        {
          "output_type": "execute_result",
          "data": {
            "text/html": [
              "<div>\n",
              "<style scoped>\n",
              "    .dataframe tbody tr th:only-of-type {\n",
              "        vertical-align: middle;\n",
              "    }\n",
              "\n",
              "    .dataframe tbody tr th {\n",
              "        vertical-align: top;\n",
              "    }\n",
              "\n",
              "    .dataframe thead th {\n",
              "        text-align: right;\n",
              "    }\n",
              "</style>\n",
              "<table border=\"1\" class=\"dataframe\">\n",
              "  <thead>\n",
              "    <tr style=\"text-align: right;\">\n",
              "      <th></th>\n",
              "      <th>state</th>\n",
              "      <th>candidate</th>\n",
              "      <th>party</th>\n",
              "      <th>year</th>\n",
              "      <th>candidatevotes</th>\n",
              "    </tr>\n",
              "  </thead>\n",
              "  <tbody>\n",
              "    <tr>\n",
              "      <th>0</th>\n",
              "      <td>Alabama</td>\n",
              "      <td>Carter, Jimmy</td>\n",
              "      <td>1.0</td>\n",
              "      <td>1976</td>\n",
              "      <td>659170</td>\n",
              "    </tr>\n",
              "    <tr>\n",
              "      <th>1</th>\n",
              "      <td>Alabama</td>\n",
              "      <td>Ford, Gerald</td>\n",
              "      <td>2.0</td>\n",
              "      <td>1976</td>\n",
              "      <td>504070</td>\n",
              "    </tr>\n",
              "    <tr>\n",
              "      <th>2</th>\n",
              "      <td>Alabama</td>\n",
              "      <td>Maddox, Lester</td>\n",
              "      <td>3.0</td>\n",
              "      <td>1976</td>\n",
              "      <td>9198</td>\n",
              "    </tr>\n",
              "    <tr>\n",
              "      <th>3</th>\n",
              "      <td>Alabama</td>\n",
              "      <td>Bubar, Benjamin \"\"Ben\"\"</td>\n",
              "      <td>3.0</td>\n",
              "      <td>1976</td>\n",
              "      <td>6669</td>\n",
              "    </tr>\n",
              "    <tr>\n",
              "      <th>4</th>\n",
              "      <td>Alabama</td>\n",
              "      <td>Hall, Gus</td>\n",
              "      <td>3.0</td>\n",
              "      <td>1976</td>\n",
              "      <td>1954</td>\n",
              "    </tr>\n",
              "    <tr>\n",
              "      <th>...</th>\n",
              "      <td>...</td>\n",
              "      <td>...</td>\n",
              "      <td>...</td>\n",
              "      <td>...</td>\n",
              "      <td>...</td>\n",
              "    </tr>\n",
              "    <tr>\n",
              "      <th>3735</th>\n",
              "      <td>Wyoming</td>\n",
              "      <td>Blank Vote</td>\n",
              "      <td>3.0</td>\n",
              "      <td>2016</td>\n",
              "      <td>6904</td>\n",
              "    </tr>\n",
              "    <tr>\n",
              "      <th>3736</th>\n",
              "      <td>Wyoming</td>\n",
              "      <td>Blank Vote</td>\n",
              "      <td>3.0</td>\n",
              "      <td>2016</td>\n",
              "      <td>3224</td>\n",
              "    </tr>\n",
              "    <tr>\n",
              "      <th>3737</th>\n",
              "      <td>Wyoming</td>\n",
              "      <td>Blank Vote</td>\n",
              "      <td>3.0</td>\n",
              "      <td>2016</td>\n",
              "      <td>2661</td>\n",
              "    </tr>\n",
              "    <tr>\n",
              "      <th>3738</th>\n",
              "      <td>Wyoming</td>\n",
              "      <td>Castle, Darrell L.</td>\n",
              "      <td>3.0</td>\n",
              "      <td>2016</td>\n",
              "      <td>2042</td>\n",
              "    </tr>\n",
              "    <tr>\n",
              "      <th>3739</th>\n",
              "      <td>Wyoming</td>\n",
              "      <td>Over Vote</td>\n",
              "      <td>3.0</td>\n",
              "      <td>2016</td>\n",
              "      <td>278</td>\n",
              "    </tr>\n",
              "  </tbody>\n",
              "</table>\n",
              "<p>3740 rows × 5 columns</p>\n",
              "</div>"
            ],
            "text/plain": [
              "        state                candidate  party  year  candidatevotes\n",
              "0     Alabama            Carter, Jimmy    1.0  1976          659170\n",
              "1     Alabama             Ford, Gerald    2.0  1976          504070\n",
              "2     Alabama           Maddox, Lester    3.0  1976            9198\n",
              "3     Alabama  Bubar, Benjamin \"\"Ben\"\"    3.0  1976            6669\n",
              "4     Alabama                Hall, Gus    3.0  1976            1954\n",
              "...       ...                      ...    ...   ...             ...\n",
              "3735  Wyoming               Blank Vote    3.0  2016            6904\n",
              "3736  Wyoming               Blank Vote    3.0  2016            3224\n",
              "3737  Wyoming               Blank Vote    3.0  2016            2661\n",
              "3738  Wyoming       Castle, Darrell L.    3.0  2016            2042\n",
              "3739  Wyoming                Over Vote    3.0  2016             278\n",
              "\n",
              "[3740 rows x 5 columns]"
            ]
          },
          "metadata": {
            "tags": []
          },
          "execution_count": 389
        }
      ]
    },
    {
      "cell_type": "code",
      "metadata": {
        "colab": {
          "base_uri": "https://localhost:8080/",
          "height": 407
        },
        "id": "J4o53C1uQTNd",
        "outputId": "63f6d8f9-f495-43b7-e3f2-1ff4cf83f0ff"
      },
      "source": [
        "test"
      ],
      "execution_count": 390,
      "outputs": [
        {
          "output_type": "execute_result",
          "data": {
            "text/html": [
              "<div>\n",
              "<style scoped>\n",
              "    .dataframe tbody tr th:only-of-type {\n",
              "        vertical-align: middle;\n",
              "    }\n",
              "\n",
              "    .dataframe tbody tr th {\n",
              "        vertical-align: top;\n",
              "    }\n",
              "\n",
              "    .dataframe thead th {\n",
              "        text-align: right;\n",
              "    }\n",
              "</style>\n",
              "<table border=\"1\" class=\"dataframe\">\n",
              "  <thead>\n",
              "    <tr style=\"text-align: right;\">\n",
              "      <th></th>\n",
              "      <th>state</th>\n",
              "      <th>candidate</th>\n",
              "      <th>party</th>\n",
              "      <th>year</th>\n",
              "      <th>candidatevotes</th>\n",
              "    </tr>\n",
              "  </thead>\n",
              "  <tbody>\n",
              "    <tr>\n",
              "      <th>0</th>\n",
              "      <td>Alabama</td>\n",
              "      <td>Write-ins</td>\n",
              "      <td>3.0</td>\n",
              "      <td>2020</td>\n",
              "      <td>7312</td>\n",
              "    </tr>\n",
              "    <tr>\n",
              "      <th>1</th>\n",
              "      <td>Alabama</td>\n",
              "      <td>Donald Trump</td>\n",
              "      <td>2.0</td>\n",
              "      <td>2020</td>\n",
              "      <td>1441170</td>\n",
              "    </tr>\n",
              "    <tr>\n",
              "      <th>2</th>\n",
              "      <td>Alabama</td>\n",
              "      <td>Jo Jorgensen</td>\n",
              "      <td>3.0</td>\n",
              "      <td>2020</td>\n",
              "      <td>25176</td>\n",
              "    </tr>\n",
              "    <tr>\n",
              "      <th>3</th>\n",
              "      <td>Alabama</td>\n",
              "      <td>Joe Biden</td>\n",
              "      <td>1.0</td>\n",
              "      <td>2020</td>\n",
              "      <td>849624</td>\n",
              "    </tr>\n",
              "    <tr>\n",
              "      <th>4</th>\n",
              "      <td>Alaska</td>\n",
              "      <td>Write-ins</td>\n",
              "      <td>3.0</td>\n",
              "      <td>2020</td>\n",
              "      <td>76</td>\n",
              "    </tr>\n",
              "    <tr>\n",
              "      <th>...</th>\n",
              "      <td>...</td>\n",
              "      <td>...</td>\n",
              "      <td>...</td>\n",
              "      <td>...</td>\n",
              "      <td>...</td>\n",
              "    </tr>\n",
              "    <tr>\n",
              "      <th>346</th>\n",
              "      <td>Wyoming</td>\n",
              "      <td>Write-ins</td>\n",
              "      <td>3.0</td>\n",
              "      <td>2020</td>\n",
              "      <td>1739</td>\n",
              "    </tr>\n",
              "    <tr>\n",
              "      <th>347</th>\n",
              "      <td>Wyoming</td>\n",
              "      <td>Brock Pierce</td>\n",
              "      <td>3.0</td>\n",
              "      <td>2020</td>\n",
              "      <td>2208</td>\n",
              "    </tr>\n",
              "    <tr>\n",
              "      <th>348</th>\n",
              "      <td>Wyoming</td>\n",
              "      <td>Donald Trump</td>\n",
              "      <td>2.0</td>\n",
              "      <td>2020</td>\n",
              "      <td>193559</td>\n",
              "    </tr>\n",
              "    <tr>\n",
              "      <th>349</th>\n",
              "      <td>Wyoming</td>\n",
              "      <td>Jo Jorgensen</td>\n",
              "      <td>3.0</td>\n",
              "      <td>2020</td>\n",
              "      <td>5768</td>\n",
              "    </tr>\n",
              "    <tr>\n",
              "      <th>350</th>\n",
              "      <td>Wyoming</td>\n",
              "      <td>Joe Biden</td>\n",
              "      <td>1.0</td>\n",
              "      <td>2020</td>\n",
              "      <td>73491</td>\n",
              "    </tr>\n",
              "  </tbody>\n",
              "</table>\n",
              "<p>351 rows × 5 columns</p>\n",
              "</div>"
            ],
            "text/plain": [
              "       state     candidate  party  year  candidatevotes\n",
              "0    Alabama     Write-ins    3.0  2020            7312\n",
              "1    Alabama  Donald Trump    2.0  2020         1441170\n",
              "2    Alabama  Jo Jorgensen    3.0  2020           25176\n",
              "3    Alabama     Joe Biden    1.0  2020          849624\n",
              "4     Alaska     Write-ins    3.0  2020              76\n",
              "..       ...           ...    ...   ...             ...\n",
              "346  Wyoming     Write-ins    3.0  2020            1739\n",
              "347  Wyoming  Brock Pierce    3.0  2020            2208\n",
              "348  Wyoming  Donald Trump    2.0  2020          193559\n",
              "349  Wyoming  Jo Jorgensen    3.0  2020            5768\n",
              "350  Wyoming     Joe Biden    1.0  2020           73491\n",
              "\n",
              "[351 rows x 5 columns]"
            ]
          },
          "metadata": {
            "tags": []
          },
          "execution_count": 390
        }
      ]
    },
    {
      "cell_type": "code",
      "metadata": {
        "colab": {
          "base_uri": "https://localhost:8080/"
        },
        "id": "m2EWa1OTRzVA",
        "outputId": "7244180b-010e-4d2e-a686-e01c4604bb2f"
      },
      "source": [
        "train.isnull().sum()"
      ],
      "execution_count": 391,
      "outputs": [
        {
          "output_type": "execute_result",
          "data": {
            "text/plain": [
              "state             0\n",
              "candidate         0\n",
              "party             0\n",
              "year              0\n",
              "candidatevotes    0\n",
              "dtype: int64"
            ]
          },
          "metadata": {
            "tags": []
          },
          "execution_count": 391
        }
      ]
    },
    {
      "cell_type": "code",
      "metadata": {
        "colab": {
          "base_uri": "https://localhost:8080/"
        },
        "id": "_ehBrFM3R5SH",
        "outputId": "e3c979ad-3c40-4926-e14b-d9eff98c9c8d"
      },
      "source": [
        "test.isnull().sum()"
      ],
      "execution_count": 392,
      "outputs": [
        {
          "output_type": "execute_result",
          "data": {
            "text/plain": [
              "state             0\n",
              "candidate         0\n",
              "party             0\n",
              "year              0\n",
              "candidatevotes    0\n",
              "dtype: int64"
            ]
          },
          "metadata": {
            "tags": []
          },
          "execution_count": 392
        }
      ]
    },
    {
      "cell_type": "markdown",
      "metadata": {
        "id": "buAuOkmOYXav"
      },
      "source": [
        "Graphical representation"
      ]
    },
    {
      "cell_type": "code",
      "metadata": {
        "colab": {
          "base_uri": "https://localhost:8080/",
          "height": 285
        },
        "id": "vlC7A1tRUO7p",
        "outputId": "f98c398a-a31d-4164-bf15-3863cc712324"
      },
      "source": [
        "train.groupby('party')['candidatevotes'].count().plot.bar(ylim=0)\n",
        "plt.show()"
      ],
      "execution_count": 394,
      "outputs": [
        {
          "output_type": "display_data",
          "data": {
            "image/png": "[encoded data removed]",
            "text/plain": [
              "<Figure size 432x288 with 1 Axes>"
            ]
          },
          "metadata": {
            "tags": [],
            "needs_background": "light"
          }
        }
      ]
    },
    {
      "cell_type": "code",
      "metadata": {
        "colab": {
          "base_uri": "https://localhost:8080/",
          "height": 285
        },
        "id": "dJ8phh-AU0oS",
        "outputId": "9065f2c7-0a6e-4ab7-f8a8-b280505e078e"
      },
      "source": [
        "test.groupby('party')['candidatevotes'].count().plot.bar(ylim=0)\n",
        "plt.show()"
      ],
      "execution_count": 395,
      "outputs": [
        {
          "output_type": "display_data",
          "data": {
            "image/png": "[encoded data removed]",
            "text/plain": [
              "<Figure size 432x288 with 1 Axes>"
            ]
          },
          "metadata": {
            "tags": [],
            "needs_background": "light"
          }
        }
      ]
    },
    {
      "cell_type": "markdown",
      "metadata": {
        "id": "aHD4-kpLK0eC"
      },
      "source": [
        "Define X, y, and X_test"
      ]
    },
    {
      "cell_type": "code",
      "metadata": {
        "id": "YHqK17EdK6sy"
      },
      "source": [
        "candidate_votes = test.candidatevotes\n",
        "\n",
        "y = train.candidatevotes\n",
        "X = train.drop(['candidatevotes'], axis=1)\n",
        "X_test = test.drop(['candidatevotes'], axis=1)"
      ],
      "execution_count": 396,
      "outputs": []
    },
    {
      "cell_type": "code",
      "metadata": {
        "colab": {
          "base_uri": "https://localhost:8080/"
        },
        "id": "JeyOOa1PLesp",
        "outputId": "7ca5c285-047a-4aff-99bc-f501f11c81ac"
      },
      "source": [
        "y"
      ],
      "execution_count": 397,
      "outputs": [
        {
          "output_type": "execute_result",
          "data": {
            "text/plain": [
              "0       659170\n",
              "1       504070\n",
              "2         9198\n",
              "3         6669\n",
              "4         1954\n",
              "         ...  \n",
              "3735      6904\n",
              "3736      3224\n",
              "3737      2661\n",
              "3738      2042\n",
              "3739       278\n",
              "Name: candidatevotes, Length: 3740, dtype: int64"
            ]
          },
          "metadata": {
            "tags": []
          },
          "execution_count": 397
        }
      ]
    },
    {
      "cell_type": "code",
      "metadata": {
        "colab": {
          "base_uri": "https://localhost:8080/",
          "height": 407
        },
        "id": "QZ2Of6iJL59F",
        "outputId": "343164b6-cece-491e-a9d8-2ed90e909471"
      },
      "source": [
        "X"
      ],
      "execution_count": 398,
      "outputs": [
        {
          "output_type": "execute_result",
          "data": {
            "text/html": [
              "<div>\n",
              "<style scoped>\n",
              "    .dataframe tbody tr th:only-of-type {\n",
              "        vertical-align: middle;\n",
              "    }\n",
              "\n",
              "    .dataframe tbody tr th {\n",
              "        vertical-align: top;\n",
              "    }\n",
              "\n",
              "    .dataframe thead th {\n",
              "        text-align: right;\n",
              "    }\n",
              "</style>\n",
              "<table border=\"1\" class=\"dataframe\">\n",
              "  <thead>\n",
              "    <tr style=\"text-align: right;\">\n",
              "      <th></th>\n",
              "      <th>state</th>\n",
              "      <th>candidate</th>\n",
              "      <th>party</th>\n",
              "      <th>year</th>\n",
              "    </tr>\n",
              "  </thead>\n",
              "  <tbody>\n",
              "    <tr>\n",
              "      <th>0</th>\n",
              "      <td>Alabama</td>\n",
              "      <td>Carter, Jimmy</td>\n",
              "      <td>1.0</td>\n",
              "      <td>1976</td>\n",
              "    </tr>\n",
              "    <tr>\n",
              "      <th>1</th>\n",
              "      <td>Alabama</td>\n",
              "      <td>Ford, Gerald</td>\n",
              "      <td>2.0</td>\n",
              "      <td>1976</td>\n",
              "    </tr>\n",
              "    <tr>\n",
              "      <th>2</th>\n",
              "      <td>Alabama</td>\n",
              "      <td>Maddox, Lester</td>\n",
              "      <td>3.0</td>\n",
              "      <td>1976</td>\n",
              "    </tr>\n",
              "    <tr>\n",
              "      <th>3</th>\n",
              "      <td>Alabama</td>\n",
              "      <td>Bubar, Benjamin \"\"Ben\"\"</td>\n",
              "      <td>3.0</td>\n",
              "      <td>1976</td>\n",
              "    </tr>\n",
              "    <tr>\n",
              "      <th>4</th>\n",
              "      <td>Alabama</td>\n",
              "      <td>Hall, Gus</td>\n",
              "      <td>3.0</td>\n",
              "      <td>1976</td>\n",
              "    </tr>\n",
              "    <tr>\n",
              "      <th>...</th>\n",
              "      <td>...</td>\n",
              "      <td>...</td>\n",
              "      <td>...</td>\n",
              "      <td>...</td>\n",
              "    </tr>\n",
              "    <tr>\n",
              "      <th>3735</th>\n",
              "      <td>Wyoming</td>\n",
              "      <td>Blank Vote</td>\n",
              "      <td>3.0</td>\n",
              "      <td>2016</td>\n",
              "    </tr>\n",
              "    <tr>\n",
              "      <th>3736</th>\n",
              "      <td>Wyoming</td>\n",
              "      <td>Blank Vote</td>\n",
              "      <td>3.0</td>\n",
              "      <td>2016</td>\n",
              "    </tr>\n",
              "    <tr>\n",
              "      <th>3737</th>\n",
              "      <td>Wyoming</td>\n",
              "      <td>Blank Vote</td>\n",
              "      <td>3.0</td>\n",
              "      <td>2016</td>\n",
              "    </tr>\n",
              "    <tr>\n",
              "      <th>3738</th>\n",
              "      <td>Wyoming</td>\n",
              "      <td>Castle, Darrell L.</td>\n",
              "      <td>3.0</td>\n",
              "      <td>2016</td>\n",
              "    </tr>\n",
              "    <tr>\n",
              "      <th>3739</th>\n",
              "      <td>Wyoming</td>\n",
              "      <td>Over Vote</td>\n",
              "      <td>3.0</td>\n",
              "      <td>2016</td>\n",
              "    </tr>\n",
              "  </tbody>\n",
              "</table>\n",
              "<p>3740 rows × 4 columns</p>\n",
              "</div>"
            ],
            "text/plain": [
              "        state                candidate  party  year\n",
              "0     Alabama            Carter, Jimmy    1.0  1976\n",
              "1     Alabama             Ford, Gerald    2.0  1976\n",
              "2     Alabama           Maddox, Lester    3.0  1976\n",
              "3     Alabama  Bubar, Benjamin \"\"Ben\"\"    3.0  1976\n",
              "4     Alabama                Hall, Gus    3.0  1976\n",
              "...       ...                      ...    ...   ...\n",
              "3735  Wyoming               Blank Vote    3.0  2016\n",
              "3736  Wyoming               Blank Vote    3.0  2016\n",
              "3737  Wyoming               Blank Vote    3.0  2016\n",
              "3738  Wyoming       Castle, Darrell L.    3.0  2016\n",
              "3739  Wyoming                Over Vote    3.0  2016\n",
              "\n",
              "[3740 rows x 4 columns]"
            ]
          },
          "metadata": {
            "tags": []
          },
          "execution_count": 398
        }
      ]
    },
    {
      "cell_type": "code",
      "metadata": {
        "colab": {
          "base_uri": "https://localhost:8080/",
          "height": 407
        },
        "id": "JlE-2iTkT3RS",
        "outputId": "e8af5e26-6500-43df-c82e-fd677f81c6e0"
      },
      "source": [
        "X_test"
      ],
      "execution_count": 399,
      "outputs": [
        {
          "output_type": "execute_result",
          "data": {
            "text/html": [
              "<div>\n",
              "<style scoped>\n",
              "    .dataframe tbody tr th:only-of-type {\n",
              "        vertical-align: middle;\n",
              "    }\n",
              "\n",
              "    .dataframe tbody tr th {\n",
              "        vertical-align: top;\n",
              "    }\n",
              "\n",
              "    .dataframe thead th {\n",
              "        text-align: right;\n",
              "    }\n",
              "</style>\n",
              "<table border=\"1\" class=\"dataframe\">\n",
              "  <thead>\n",
              "    <tr style=\"text-align: right;\">\n",
              "      <th></th>\n",
              "      <th>state</th>\n",
              "      <th>candidate</th>\n",
              "      <th>party</th>\n",
              "      <th>year</th>\n",
              "    </tr>\n",
              "  </thead>\n",
              "  <tbody>\n",
              "    <tr>\n",
              "      <th>0</th>\n",
              "      <td>Alabama</td>\n",
              "      <td>Write-ins</td>\n",
              "      <td>3.0</td>\n",
              "      <td>2020</td>\n",
              "    </tr>\n",
              "    <tr>\n",
              "      <th>1</th>\n",
              "      <td>Alabama</td>\n",
              "      <td>Donald Trump</td>\n",
              "      <td>2.0</td>\n",
              "      <td>2020</td>\n",
              "    </tr>\n",
              "    <tr>\n",
              "      <th>2</th>\n",
              "      <td>Alabama</td>\n",
              "      <td>Jo Jorgensen</td>\n",
              "      <td>3.0</td>\n",
              "      <td>2020</td>\n",
              "    </tr>\n",
              "    <tr>\n",
              "      <th>3</th>\n",
              "      <td>Alabama</td>\n",
              "      <td>Joe Biden</td>\n",
              "      <td>1.0</td>\n",
              "      <td>2020</td>\n",
              "    </tr>\n",
              "    <tr>\n",
              "      <th>4</th>\n",
              "      <td>Alaska</td>\n",
              "      <td>Write-ins</td>\n",
              "      <td>3.0</td>\n",
              "      <td>2020</td>\n",
              "    </tr>\n",
              "    <tr>\n",
              "      <th>...</th>\n",
              "      <td>...</td>\n",
              "      <td>...</td>\n",
              "      <td>...</td>\n",
              "      <td>...</td>\n",
              "    </tr>\n",
              "    <tr>\n",
              "      <th>346</th>\n",
              "      <td>Wyoming</td>\n",
              "      <td>Write-ins</td>\n",
              "      <td>3.0</td>\n",
              "      <td>2020</td>\n",
              "    </tr>\n",
              "    <tr>\n",
              "      <th>347</th>\n",
              "      <td>Wyoming</td>\n",
              "      <td>Brock Pierce</td>\n",
              "      <td>3.0</td>\n",
              "      <td>2020</td>\n",
              "    </tr>\n",
              "    <tr>\n",
              "      <th>348</th>\n",
              "      <td>Wyoming</td>\n",
              "      <td>Donald Trump</td>\n",
              "      <td>2.0</td>\n",
              "      <td>2020</td>\n",
              "    </tr>\n",
              "    <tr>\n",
              "      <th>349</th>\n",
              "      <td>Wyoming</td>\n",
              "      <td>Jo Jorgensen</td>\n",
              "      <td>3.0</td>\n",
              "      <td>2020</td>\n",
              "    </tr>\n",
              "    <tr>\n",
              "      <th>350</th>\n",
              "      <td>Wyoming</td>\n",
              "      <td>Joe Biden</td>\n",
              "      <td>1.0</td>\n",
              "      <td>2020</td>\n",
              "    </tr>\n",
              "  </tbody>\n",
              "</table>\n",
              "<p>351 rows × 4 columns</p>\n",
              "</div>"
            ],
            "text/plain": [
              "       state     candidate  party  year\n",
              "0    Alabama     Write-ins    3.0  2020\n",
              "1    Alabama  Donald Trump    2.0  2020\n",
              "2    Alabama  Jo Jorgensen    3.0  2020\n",
              "3    Alabama     Joe Biden    1.0  2020\n",
              "4     Alaska     Write-ins    3.0  2020\n",
              "..       ...           ...    ...   ...\n",
              "346  Wyoming     Write-ins    3.0  2020\n",
              "347  Wyoming  Brock Pierce    3.0  2020\n",
              "348  Wyoming  Donald Trump    2.0  2020\n",
              "349  Wyoming  Jo Jorgensen    3.0  2020\n",
              "350  Wyoming     Joe Biden    1.0  2020\n",
              "\n",
              "[351 rows x 4 columns]"
            ]
          },
          "metadata": {
            "tags": []
          },
          "execution_count": 399
        }
      ]
    },
    {
      "cell_type": "markdown",
      "metadata": {
        "id": "RzJ15vnXSeXx"
      },
      "source": [
        "Column transformer"
      ]
    },
    {
      "cell_type": "code",
      "metadata": {
        "colab": {
          "base_uri": "https://localhost:8080/"
        },
        "id": "q8-lNyvXSvUN",
        "outputId": "9f6280b1-06fa-4d73-b191-4faf61e616cc"
      },
      "source": [
        "X.info()"
      ],
      "execution_count": 400,
      "outputs": [
        {
          "output_type": "stream",
          "text": [
            "<class 'pandas.core.frame.DataFrame'>\n",
            "RangeIndex: 3740 entries, 0 to 3739\n",
            "Data columns (total 4 columns):\n",
            " #   Column     Non-Null Count  Dtype  \n",
            "---  ------     --------------  -----  \n",
            " 0   state      3740 non-null   object \n",
            " 1   candidate  3740 non-null   object \n",
            " 2   party      3740 non-null   float64\n",
            " 3   year       3740 non-null   int64  \n",
            "dtypes: float64(1), int64(1), object(2)\n",
            "memory usage: 117.0+ KB\n"
          ],
          "name": "stdout"
        }
      ]
    },
    {
      "cell_type": "code",
      "metadata": {
        "id": "HG6cc6oJShhZ"
      },
      "source": [
        "from sklearn.compose import ColumnTransformer\n",
        "from sklearn.datasets import fetch_openml\n",
        "from sklearn.pipeline import Pipeline\n",
        "from sklearn.impute import SimpleImputer\n",
        "from sklearn.preprocessing import StandardScaler, OneHotEncoder\n",
        "from sklearn.experimental import enable_iterative_imputer\n",
        "from sklearn.impute import IterativeImputer\n",
        "\n",
        "numeric_features = [2, 3]\n",
        "numeric_transformer = Pipeline(steps=[('imputer', IterativeImputer(random_state=1)),\n",
        "    ('scaler', StandardScaler())])\n",
        "\n",
        "categorical_features = [0, 1]\n",
        "categorical_transformer = Pipeline(steps=[('imputer', SimpleImputer(strategy='constant', fill_value='missing')),\n",
        "    ('onehot', OneHotEncoder(handle_unknown='ignore'))])\n",
        "\n",
        "preprocessor = ColumnTransformer(transformers=[\n",
        "        ('num', numeric_transformer, numeric_features),\n",
        "        ('cat', categorical_transformer, categorical_features)\n",
        "        ])"
      ],
      "execution_count": 401,
      "outputs": []
    },
    {
      "cell_type": "markdown",
      "metadata": {
        "id": "72O3NJQlTJrT"
      },
      "source": [
        "Split X up for training and validation"
      ]
    },
    {
      "cell_type": "code",
      "metadata": {
        "colab": {
          "base_uri": "https://localhost:8080/"
        },
        "id": "JQ6aHKyDTIHA",
        "outputId": "f9b148b6-f8ce-4ae5-b36b-9103a7223a4b"
      },
      "source": [
        "#split training set for training and testing\n",
        "from sklearn.model_selection import train_test_split\n",
        "\n",
        "X_train, X_val, y_train, y_val = train_test_split(X, y, random_state=1, test_size=0.10)\n",
        "X_train.shape, X_val.shape, y_train.shape, y_val.shape, X_test.shape"
      ],
      "execution_count": 402,
      "outputs": [
        {
          "output_type": "execute_result",
          "data": {
            "text/plain": [
              "((3366, 4), (374, 4), (3366,), (374,), (351, 4))"
            ]
          },
          "metadata": {
            "tags": []
          },
          "execution_count": 402
        }
      ]
    },
    {
      "cell_type": "markdown",
      "metadata": {
        "id": "XonctXvKTYBz"
      },
      "source": [
        "Create pipeline"
      ]
    },
    {
      "cell_type": "code",
      "metadata": {
        "colab": {
          "base_uri": "https://localhost:8080/"
        },
        "id": "7CPihAJFVJ3G",
        "outputId": "a698bc63-7927-492b-da3f-b3619a052fba"
      },
      "source": [
        "from sklearn.pipeline import make_pipeline, Pipeline\n",
        "from sklearn.preprocessing import StandardScaler\n",
        "from sklearn.ensemble import GradientBoostingRegressor\n",
        "\n",
        "model = Pipeline(steps=[('preprocessor', preprocessor),\n",
        "                      ('regressor', GradientBoostingRegressor(random_state=1, n_estimators=1000, max_depth=5, min_samples_split=2, learning_rate=.1, loss='ls'))])\n",
        "model.fit(X_train, y_train)\n",
        "print(model.score(X_train, y_train))"
      ],
      "execution_count": 403,
      "outputs": [
        {
          "output_type": "stream",
          "text": [
            "0.9988325345599853\n"
          ],
          "name": "stdout"
        }
      ]
    },
    {
      "cell_type": "markdown",
      "metadata": {
        "id": "a_VEfD0dVQjX"
      },
      "source": [
        "Make predictions"
      ]
    },
    {
      "cell_type": "code",
      "metadata": {
        "colab": {
          "base_uri": "https://localhost:8080/"
        },
        "id": "-dYzW7QMVPie",
        "outputId": "cc4a207f-5141-4d82-dc5b-9152e9b111cf"
      },
      "source": [
        "y_pred = model.predict(X_val)\n",
        "y_pred = y_pred.astype(int)\n",
        "y_pred = [0 if i < 0 else i for i in y_pred]\n",
        "print(model.score(X_val, y_val))"
      ],
      "execution_count": 404,
      "outputs": [
        {
          "output_type": "stream",
          "text": [
            "0.9631516885609804\n"
          ],
          "name": "stdout"
        }
      ]
    },
    {
      "cell_type": "code",
      "metadata": {
        "colab": {
          "base_uri": "https://localhost:8080/",
          "height": 407
        },
        "id": "St-N-IB1VjNs",
        "outputId": "c077541d-3668-4c06-c2ae-8d9cf577f1e9"
      },
      "source": [
        "df=pd.DataFrame({'Actual': y_val, 'Predicted':y_pred})\n",
        "df"
      ],
      "execution_count": 405,
      "outputs": [
        {
          "output_type": "execute_result",
          "data": {
            "text/html": [
              "<div>\n",
              "<style scoped>\n",
              "    .dataframe tbody tr th:only-of-type {\n",
              "        vertical-align: middle;\n",
              "    }\n",
              "\n",
              "    .dataframe tbody tr th {\n",
              "        vertical-align: top;\n",
              "    }\n",
              "\n",
              "    .dataframe thead th {\n",
              "        text-align: right;\n",
              "    }\n",
              "</style>\n",
              "<table border=\"1\" class=\"dataframe\">\n",
              "  <thead>\n",
              "    <tr style=\"text-align: right;\">\n",
              "      <th></th>\n",
              "      <th>Actual</th>\n",
              "      <th>Predicted</th>\n",
              "    </tr>\n",
              "  </thead>\n",
              "  <tbody>\n",
              "    <tr>\n",
              "      <th>1241</th>\n",
              "      <td>280</td>\n",
              "      <td>0</td>\n",
              "    </tr>\n",
              "    <tr>\n",
              "      <th>1513</th>\n",
              "      <td>483</td>\n",
              "      <td>0</td>\n",
              "    </tr>\n",
              "    <tr>\n",
              "      <th>1036</th>\n",
              "      <td>349237</td>\n",
              "      <td>352370</td>\n",
              "    </tr>\n",
              "    <tr>\n",
              "      <th>1857</th>\n",
              "      <td>347</td>\n",
              "      <td>7394</td>\n",
              "    </tr>\n",
              "    <tr>\n",
              "      <th>705</th>\n",
              "      <td>6378</td>\n",
              "      <td>0</td>\n",
              "    </tr>\n",
              "    <tr>\n",
              "      <th>...</th>\n",
              "      <td>...</td>\n",
              "      <td>...</td>\n",
              "    </tr>\n",
              "    <tr>\n",
              "      <th>757</th>\n",
              "      <td>1068722</td>\n",
              "      <td>1113259</td>\n",
              "    </tr>\n",
              "    <tr>\n",
              "      <th>1672</th>\n",
              "      <td>844</td>\n",
              "      <td>0</td>\n",
              "    </tr>\n",
              "    <tr>\n",
              "      <th>3286</th>\n",
              "      <td>63881</td>\n",
              "      <td>18499</td>\n",
              "    </tr>\n",
              "    <tr>\n",
              "      <th>2308</th>\n",
              "      <td>77357</td>\n",
              "      <td>44325</td>\n",
              "    </tr>\n",
              "    <tr>\n",
              "      <th>2459</th>\n",
              "      <td>171660</td>\n",
              "      <td>269851</td>\n",
              "    </tr>\n",
              "  </tbody>\n",
              "</table>\n",
              "<p>374 rows × 2 columns</p>\n",
              "</div>"
            ],
            "text/plain": [
              "       Actual  Predicted\n",
              "1241      280          0\n",
              "1513      483          0\n",
              "1036   349237     352370\n",
              "1857      347       7394\n",
              "705      6378          0\n",
              "...       ...        ...\n",
              "757   1068722    1113259\n",
              "1672      844          0\n",
              "3286    63881      18499\n",
              "2308    77357      44325\n",
              "2459   171660     269851\n",
              "\n",
              "[374 rows x 2 columns]"
            ]
          },
          "metadata": {
            "tags": []
          },
          "execution_count": 405
        }
      ]
    },
    {
      "cell_type": "markdown",
      "metadata": {
        "id": "ewT_gcrlW2zy"
      },
      "source": [
        "Predict on X_test"
      ]
    },
    {
      "cell_type": "code",
      "metadata": {
        "colab": {
          "base_uri": "https://localhost:8080/"
        },
        "id": "e4u1HzaVW8kn",
        "outputId": "9ed12fd1-7910-4695-a722-9b6cdf5b1609"
      },
      "source": [
        "prediction = model.predict(X_test)\n",
        "prediction = prediction.astype(int)\n",
        "prediction = [0 if i < 0 else i for i in prediction]\n",
        "print(model.score(X_test, candidate_votes))"
      ],
      "execution_count": 406,
      "outputs": [
        {
          "output_type": "stream",
          "text": [
            "0.9136205478631483\n"
          ],
          "name": "stdout"
        }
      ]
    },
    {
      "cell_type": "code",
      "metadata": {
        "colab": {
          "base_uri": "https://localhost:8080/",
          "height": 407
        },
        "id": "nqe6IxzGXlvw",
        "outputId": "9692027a-9fb8-4d85-e48c-c66d18fbfbc1"
      },
      "source": [
        "df=pd.DataFrame({'Actual': candidate_votes, 'Predicted':prediction})\n",
        "df"
      ],
      "execution_count": 407,
      "outputs": [
        {
          "output_type": "execute_result",
          "data": {
            "text/html": [
              "<div>\n",
              "<style scoped>\n",
              "    .dataframe tbody tr th:only-of-type {\n",
              "        vertical-align: middle;\n",
              "    }\n",
              "\n",
              "    .dataframe tbody tr th {\n",
              "        vertical-align: top;\n",
              "    }\n",
              "\n",
              "    .dataframe thead th {\n",
              "        text-align: right;\n",
              "    }\n",
              "</style>\n",
              "<table border=\"1\" class=\"dataframe\">\n",
              "  <thead>\n",
              "    <tr style=\"text-align: right;\">\n",
              "      <th></th>\n",
              "      <th>Actual</th>\n",
              "      <th>Predicted</th>\n",
              "    </tr>\n",
              "  </thead>\n",
              "  <tbody>\n",
              "    <tr>\n",
              "      <th>0</th>\n",
              "      <td>7312</td>\n",
              "      <td>15670</td>\n",
              "    </tr>\n",
              "    <tr>\n",
              "      <th>1</th>\n",
              "      <td>1441170</td>\n",
              "      <td>838891</td>\n",
              "    </tr>\n",
              "    <tr>\n",
              "      <th>2</th>\n",
              "      <td>25176</td>\n",
              "      <td>15670</td>\n",
              "    </tr>\n",
              "    <tr>\n",
              "      <th>3</th>\n",
              "      <td>849624</td>\n",
              "      <td>736789</td>\n",
              "    </tr>\n",
              "    <tr>\n",
              "      <th>4</th>\n",
              "      <td>76</td>\n",
              "      <td>0</td>\n",
              "    </tr>\n",
              "    <tr>\n",
              "      <th>...</th>\n",
              "      <td>...</td>\n",
              "      <td>...</td>\n",
              "    </tr>\n",
              "    <tr>\n",
              "      <th>346</th>\n",
              "      <td>1739</td>\n",
              "      <td>0</td>\n",
              "    </tr>\n",
              "    <tr>\n",
              "      <th>347</th>\n",
              "      <td>2208</td>\n",
              "      <td>0</td>\n",
              "    </tr>\n",
              "    <tr>\n",
              "      <th>348</th>\n",
              "      <td>193559</td>\n",
              "      <td>124012</td>\n",
              "    </tr>\n",
              "    <tr>\n",
              "      <th>349</th>\n",
              "      <td>5768</td>\n",
              "      <td>0</td>\n",
              "    </tr>\n",
              "    <tr>\n",
              "      <th>350</th>\n",
              "      <td>73491</td>\n",
              "      <td>11488</td>\n",
              "    </tr>\n",
              "  </tbody>\n",
              "</table>\n",
              "<p>351 rows × 2 columns</p>\n",
              "</div>"
            ],
            "text/plain": [
              "      Actual  Predicted\n",
              "0       7312      15670\n",
              "1    1441170     838891\n",
              "2      25176      15670\n",
              "3     849624     736789\n",
              "4         76          0\n",
              "..       ...        ...\n",
              "346     1739          0\n",
              "347     2208          0\n",
              "348   193559     124012\n",
              "349     5768          0\n",
              "350    73491      11488\n",
              "\n",
              "[351 rows x 2 columns]"
            ]
          },
          "metadata": {
            "tags": []
          },
          "execution_count": 407
        }
      ]
    },
    {
      "cell_type": "code",
      "metadata": {
        "colab": {
          "base_uri": "https://localhost:8080/",
          "height": 407
        },
        "id": "BF7IMz8KaoVU",
        "outputId": "58f85338-4ea3-455e-b091-f744b2d2fb36"
      },
      "source": [
        "test['predicted'] = prediction\n",
        "test"
      ],
      "execution_count": 411,
      "outputs": [
        {
          "output_type": "execute_result",
          "data": {
            "text/html": [
              "<div>\n",
              "<style scoped>\n",
              "    .dataframe tbody tr th:only-of-type {\n",
              "        vertical-align: middle;\n",
              "    }\n",
              "\n",
              "    .dataframe tbody tr th {\n",
              "        vertical-align: top;\n",
              "    }\n",
              "\n",
              "    .dataframe thead th {\n",
              "        text-align: right;\n",
              "    }\n",
              "</style>\n",
              "<table border=\"1\" class=\"dataframe\">\n",
              "  <thead>\n",
              "    <tr style=\"text-align: right;\">\n",
              "      <th></th>\n",
              "      <th>state</th>\n",
              "      <th>candidate</th>\n",
              "      <th>party</th>\n",
              "      <th>year</th>\n",
              "      <th>candidatevotes</th>\n",
              "      <th>predicted</th>\n",
              "    </tr>\n",
              "  </thead>\n",
              "  <tbody>\n",
              "    <tr>\n",
              "      <th>0</th>\n",
              "      <td>Alabama</td>\n",
              "      <td>Write-ins</td>\n",
              "      <td>3.0</td>\n",
              "      <td>2020</td>\n",
              "      <td>7312</td>\n",
              "      <td>15670</td>\n",
              "    </tr>\n",
              "    <tr>\n",
              "      <th>1</th>\n",
              "      <td>Alabama</td>\n",
              "      <td>Donald Trump</td>\n",
              "      <td>2.0</td>\n",
              "      <td>2020</td>\n",
              "      <td>1441170</td>\n",
              "      <td>838891</td>\n",
              "    </tr>\n",
              "    <tr>\n",
              "      <th>2</th>\n",
              "      <td>Alabama</td>\n",
              "      <td>Jo Jorgensen</td>\n",
              "      <td>3.0</td>\n",
              "      <td>2020</td>\n",
              "      <td>25176</td>\n",
              "      <td>15670</td>\n",
              "    </tr>\n",
              "    <tr>\n",
              "      <th>3</th>\n",
              "      <td>Alabama</td>\n",
              "      <td>Joe Biden</td>\n",
              "      <td>1.0</td>\n",
              "      <td>2020</td>\n",
              "      <td>849624</td>\n",
              "      <td>736789</td>\n",
              "    </tr>\n",
              "    <tr>\n",
              "      <th>4</th>\n",
              "      <td>Alaska</td>\n",
              "      <td>Write-ins</td>\n",
              "      <td>3.0</td>\n",
              "      <td>2020</td>\n",
              "      <td>76</td>\n",
              "      <td>0</td>\n",
              "    </tr>\n",
              "    <tr>\n",
              "      <th>...</th>\n",
              "      <td>...</td>\n",
              "      <td>...</td>\n",
              "      <td>...</td>\n",
              "      <td>...</td>\n",
              "      <td>...</td>\n",
              "      <td>...</td>\n",
              "    </tr>\n",
              "    <tr>\n",
              "      <th>346</th>\n",
              "      <td>Wyoming</td>\n",
              "      <td>Write-ins</td>\n",
              "      <td>3.0</td>\n",
              "      <td>2020</td>\n",
              "      <td>1739</td>\n",
              "      <td>0</td>\n",
              "    </tr>\n",
              "    <tr>\n",
              "      <th>347</th>\n",
              "      <td>Wyoming</td>\n",
              "      <td>Brock Pierce</td>\n",
              "      <td>3.0</td>\n",
              "      <td>2020</td>\n",
              "      <td>2208</td>\n",
              "      <td>0</td>\n",
              "    </tr>\n",
              "    <tr>\n",
              "      <th>348</th>\n",
              "      <td>Wyoming</td>\n",
              "      <td>Donald Trump</td>\n",
              "      <td>2.0</td>\n",
              "      <td>2020</td>\n",
              "      <td>193559</td>\n",
              "      <td>124012</td>\n",
              "    </tr>\n",
              "    <tr>\n",
              "      <th>349</th>\n",
              "      <td>Wyoming</td>\n",
              "      <td>Jo Jorgensen</td>\n",
              "      <td>3.0</td>\n",
              "      <td>2020</td>\n",
              "      <td>5768</td>\n",
              "      <td>0</td>\n",
              "    </tr>\n",
              "    <tr>\n",
              "      <th>350</th>\n",
              "      <td>Wyoming</td>\n",
              "      <td>Joe Biden</td>\n",
              "      <td>1.0</td>\n",
              "      <td>2020</td>\n",
              "      <td>73491</td>\n",
              "      <td>11488</td>\n",
              "    </tr>\n",
              "  </tbody>\n",
              "</table>\n",
              "<p>351 rows × 6 columns</p>\n",
              "</div>"
            ],
            "text/plain": [
              "       state     candidate  party  year  candidatevotes  predicted\n",
              "0    Alabama     Write-ins    3.0  2020            7312      15670\n",
              "1    Alabama  Donald Trump    2.0  2020         1441170     838891\n",
              "2    Alabama  Jo Jorgensen    3.0  2020           25176      15670\n",
              "3    Alabama     Joe Biden    1.0  2020          849624     736789\n",
              "4     Alaska     Write-ins    3.0  2020              76          0\n",
              "..       ...           ...    ...   ...             ...        ...\n",
              "346  Wyoming     Write-ins    3.0  2020            1739          0\n",
              "347  Wyoming  Brock Pierce    3.0  2020            2208          0\n",
              "348  Wyoming  Donald Trump    2.0  2020          193559     124012\n",
              "349  Wyoming  Jo Jorgensen    3.0  2020            5768          0\n",
              "350  Wyoming     Joe Biden    1.0  2020           73491      11488\n",
              "\n",
              "[351 rows x 6 columns]"
            ]
          },
          "metadata": {
            "tags": []
          },
          "execution_count": 411
        }
      ]
    },
    {
      "cell_type": "code",
      "metadata": {
        "colab": {
          "base_uri": "https://localhost:8080/",
          "height": 285
        },
        "id": "yNJw9JdabD40",
        "outputId": "732e7466-d386-4a70-dffe-fb8680644157"
      },
      "source": [
        "test.groupby('party')['predicted'].count().plot.bar(ylim=0)\n",
        "plt.show()"
      ],
      "execution_count": 415,
      "outputs": [
        {
          "output_type": "display_data",
          "data": {
            "image/png": "[encoded data removed]",
            "text/plain": [
              "<Figure size 432x288 with 1 Axes>"
            ]
          },
          "metadata": {
            "tags": [],
            "needs_background": "light"
          }
        }
      ]
    },
    {
      "cell_type": "markdown",
      "metadata": {
        "id": "R5JaquW4cb6j"
      },
      "source": [
        "Democrat=1, Republican=2, Other=3"
      ]
    },
    {
      "cell_type": "code",
      "metadata": {
        "colab": {
          "base_uri": "https://localhost:8080/"
        },
        "id": "eJ7KSRimbfKt",
        "outputId": "4a78207b-e34b-48c9-e294-8de86dbdb709"
      },
      "source": [
        "predict_winner = test.groupby('party')['predicted'].sum()\n",
        "predict_winner"
      ],
      "execution_count": 420,
      "outputs": [
        {
          "output_type": "execute_result",
          "data": {
            "text/plain": [
              "party\n",
              "1.0    58248253\n",
              "2.0    57218448\n",
              "3.0     4166674\n",
              "Name: predicted, dtype: int64"
            ]
          },
          "metadata": {
            "tags": []
          },
          "execution_count": 420
        }
      ]
    },
    {
      "cell_type": "code",
      "metadata": {
        "colab": {
          "base_uri": "https://localhost:8080/"
        },
        "id": "Wa7V9X5Zb4S1",
        "outputId": "793a2ac9-638e-4893-9075-75118aaf8a61"
      },
      "source": [
        "winner = test.groupby('party')['candidatevotes'].sum()\n",
        "winner"
      ],
      "execution_count": 421,
      "outputs": [
        {
          "output_type": "execute_result",
          "data": {
            "text/plain": [
              "party\n",
              "1.0    80883844\n",
              "2.0    74295934\n",
              "3.0     2879183\n",
              "Name: candidatevotes, dtype: int64"
            ]
          },
          "metadata": {
            "tags": []
          },
          "execution_count": 421
        }
      ]
    }
  ]
}